{
 "cells": [
  {
   "cell_type": "markdown",
   "metadata": {},
   "source": [
    "### **Tasks and Coding Exercises**\n",
    "\n",
    "1. Create a variable called `name` and assign it your name. Print a message saying \"Hello, [name]!\" using an f-string.\n",
    "2. Declare two variables, `x` and `y`, with values 20 and 4, respectively. Calculate their sum, difference, product, and quotient.\n",
    "3. Write a Python program that asks the user for their age and checks if they are eligible to vote (age >= 18).\n",
    "4. Create a variable `pi` with the value 3.14159. Use it to calculate and print the area of a circle with radius 7.\n",
    "5. Write a program that takes two numbers from the user and prints whether the first number is greater than, less than, or equal to the second number.\n",
    "6. Declare a Boolean variable called `is_raining` and set it to `True` or `False`. Use it to print \"Take an umbrella\" if it is raining, otherwise print \"Enjoy the sunshine\".\n",
    "7. Write a Python program that takes two numbers from the user and prints the result of their division. Make sure to handle the case when the second number is zero.\n",
    "8. Write a Python program that converts Celsius to Fahrenheit. Formula: `F = (C * 9/5) + 32`.\n",
    "9. Create a Python program that takes a number from the user and checks whether it is even or odd.\n",
    "10. Write a program that takes a string from the user and prints whether it is a palindrome (the same forwards and backwards)."
   ]
  },
  {
   "cell_type": "code",
   "execution_count": 1,
   "metadata": {},
   "outputs": [
    {
     "name": "stdout",
     "output_type": "stream",
     "text": [
      "Hello Faith Mwende!\n"
     ]
    }
   ],
   "source": [
    "name = \"Faith Mwende\"\n",
    "print(f\"Hello {name}!\")"
   ]
  },
  {
   "cell_type": "code",
   "execution_count": 11,
   "metadata": {},
   "outputs": [
    {
     "name": "stdout",
     "output_type": "stream",
     "text": [
      "Sum of 20 + 4 = 24\n",
      "Difference of 20 - 4 = 16\n",
      "Product of 20 * 4 = 80\n",
      "Quotient of 20 / 4 = 5.0\n"
     ]
    }
   ],
   "source": [
    "x = 20\n",
    "y = 4\n",
    "# Sum\n",
    "\n",
    "sum = x + y\n",
    "print(f\"Sum of {x} + {y} = {sum}\")\n",
    "# Difference\n",
    "\n",
    "difference = x - y\n",
    "print(f\"Difference of {x} - {y} = {difference}\")\n",
    "# Product\n",
    "\n",
    "product = x * y\n",
    "print(f\"Product of {x} * {y} = {product}\")\n",
    "# Quotient\n",
    "\n",
    "quotient = x / y\n",
    "print(f\"Quotient of {x} / {y} = {quotient}\")"
   ]
  },
  {
   "cell_type": "code",
   "execution_count": 13,
   "metadata": {},
   "outputs": [
    {
     "name": "stdout",
     "output_type": "stream",
     "text": [
      "Not eligible to vote\n"
     ]
    }
   ],
   "source": [
    "age = int(input(\"May I know your age :\"))\n",
    "\n",
    "if (age >= 18):\n",
    "    print(\"Person is eligible to vote\");\n",
    "else:\n",
    "    print(\"Not eligible to vote\");\n"
   ]
  },
  {
   "cell_type": "code",
   "execution_count": 14,
   "metadata": {},
   "outputs": [
    {
     "name": "stdout",
     "output_type": "stream",
     "text": [
      "The area of the circle of 7 cm is 153.93791\n"
     ]
    }
   ],
   "source": [
    "pi = 3.14159\n",
    "\n",
    "radius = 7\n",
    "\n",
    "area = pi * radius * radius\n",
    "print(f\"The area of the circle of {radius} cm is {area}\")"
   ]
  },
  {
   "cell_type": "code",
   "execution_count": 12,
   "metadata": {},
   "outputs": [
    {
     "name": "stdout",
     "output_type": "stream",
     "text": [
      "num1 is equal to num2\n"
     ]
    }
   ],
   "source": [
    "num1 = int(input(\"Enter the first number :\"))\n",
    "num2 = int(input(\"Enter the second number :\"))\n",
    "\n",
    "\n",
    "if num1 > num2:\n",
    "    print(\"num1 is greater than num2\")\n",
    "elif num1 < num2:\n",
    "    print(\"num1 is less than num2\")\n",
    "else:\n",
    "    print(\"num1 is equal to num2\")\n",
    "\n",
    "\n",
    "\n",
    "\n",
    "\n"
   ]
  },
  {
   "cell_type": "code",
   "execution_count": 8,
   "metadata": {},
   "outputs": [
    {
     "name": "stdout",
     "output_type": "stream",
     "text": [
      "Take an umbrella\n"
     ]
    }
   ],
   "source": [
    "\n",
    "is_raining = True\n",
    "\n",
    "if is_raining:\n",
    "    print(\"Take an umbrella\")\n",
    "else:\n",
    "    print(\"Enjoy the sunshine\")\n"
   ]
  },
  {
   "cell_type": "code",
   "execution_count": 9,
   "metadata": {},
   "outputs": [
    {
     "name": "stdout",
     "output_type": "stream",
     "text": [
      "Enjoy the sunshine\n"
     ]
    }
   ],
   "source": [
    "is_raining = False\n",
    "\n",
    "if is_raining:\n",
    "    print(\"Take an umbrella\")\n",
    "else:\n",
    "    print(\"Enjoy the sunshine\")"
   ]
  },
  {
   "cell_type": "code",
   "execution_count": 21,
   "metadata": {},
   "outputs": [
    {
     "name": "stdout",
     "output_type": "stream",
     "text": [
      "Division by zero is undefined\n"
     ]
    }
   ],
   "source": [
    "num1 = int(input(\"Enter the first number: \"))\n",
    "num2 = int(input(\"Enter the second number: \"))\n",
    "\n",
    "# Division\n",
    "if num2 != 0:\n",
    "    result = num1 / num2\n",
    "    print(f\"Result of {num1} / {num2} is {result}\")\n",
    "else:\n",
    "    print(\"Division by zero is undefined\")\n"
   ]
  },
  {
   "cell_type": "code",
   "execution_count": 25,
   "metadata": {},
   "outputs": [
    {
     "name": "stdout",
     "output_type": "stream",
     "text": [
      "The temperature in Fahrenheit is 208.562\n"
     ]
    }
   ],
   "source": [
    "# Converting temperature degrees Celcius into Fahrenheit\n",
    "\n",
    "temp_Celcius = float(input(\"Enter temperature degrees in Celcius :\"))\n",
    "C = temp_Celcius\n",
    "# Conversion to Fahrenheit\n",
    "\n",
    "F = float(C * 9/5) + 32\n",
    "print(f\"The temperature in Fahrenheit is {F}\")"
   ]
  },
  {
   "cell_type": "code",
   "execution_count": 32,
   "metadata": {},
   "outputs": [
    {
     "name": "stdout",
     "output_type": "stream",
     "text": [
      "90 is even\n"
     ]
    }
   ],
   "source": [
    "num = int(input(\"Enter a number :\"))\n",
    "\n",
    "if (num % 2 == 0):\n",
    "    print(f\"{num} is even\")\n",
    "else:\n",
    "    print(f\"{num} is odd\")"
   ]
  },
  {
   "cell_type": "code",
   "execution_count": 38,
   "metadata": {},
   "outputs": [
    {
     "name": "stdout",
     "output_type": "stream",
     "text": [
      "No\n",
      "No\n",
      "No\n",
      "No\n",
      "Yes\n"
     ]
    }
   ],
   "source": [
    "# Check whether a string is a palindrome  \n",
    "\n",
    "input_ = input(\"Please enter a string :\")\n",
    "\n",
    "# Python program to check if a string is palindrome\n",
    "\n",
    "x = input_\n",
    "\n",
    "w = \"\"\n",
    "\n",
    "for i in x:\n",
    "    w = i + w\n",
    "    if(x == w):\n",
    "        print(\"Yes\")\n",
    "    else:\n",
    "        print(\"No\")"
   ]
  }
 ],
 "metadata": {
  "kernelspec": {
   "display_name": "my_venv",
   "language": "python",
   "name": "python3"
  },
  "language_info": {
   "codemirror_mode": {
    "name": "ipython",
    "version": 3
   },
   "file_extension": ".py",
   "mimetype": "text/x-python",
   "name": "python",
   "nbconvert_exporter": "python",
   "pygments_lexer": "ipython3",
   "version": "3.12.6"
  }
 },
 "nbformat": 4,
 "nbformat_minor": 2
}
