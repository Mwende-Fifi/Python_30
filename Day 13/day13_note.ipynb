{
 "cells": [
  {
   "cell_type": "markdown",
   "metadata": {},
   "source": [
    "### Welcome to day 13 of 30 days python series \n",
    "\n",
    "- Date \n",
    "- Time\n",
    "- Formatting Time\n",
    "- Formating Date"
   ]
  },
  {
   "cell_type": "markdown",
   "metadata": {},
   "source": [
    "1. Current Date and Time\n",
    "- Write a program that prints the current date and time in the format YYYY-MM-DD HH:MM:SS."
   ]
  },
  {
   "cell_type": "code",
   "execution_count": 1,
   "metadata": {},
   "outputs": [],
   "source": [
    "from datetime import datetime"
   ]
  },
  {
   "cell_type": "code",
   "execution_count": 12,
   "metadata": {},
   "outputs": [
    {
     "data": {
      "text/plain": [
       "datetime.datetime(2024, 11, 12, 9, 47, 47, 416080)"
      ]
     },
     "execution_count": 12,
     "metadata": {},
     "output_type": "execute_result"
    }
   ],
   "source": [
    "now = datetime.now()\n",
    "now"
   ]
  },
  {
   "cell_type": "code",
   "execution_count": 13,
   "metadata": {},
   "outputs": [
    {
     "data": {
      "text/plain": [
       "'2024/11/12, 09:47:47'"
      ]
     },
     "execution_count": 13,
     "metadata": {},
     "output_type": "execute_result"
    }
   ],
   "source": [
    "now.strftime(\"%Y/%m/%d, %H:%M:%S\")"
   ]
  },
  {
   "cell_type": "markdown",
   "metadata": {},
   "source": [
    "2. Date Formatting\n",
    "- Create a function that takes a date in the format YYYY-MM-DD and returns it formatted as DD/MM/YYYY."
   ]
  },
  {
   "cell_type": "code",
   "execution_count": 20,
   "metadata": {},
   "outputs": [
    {
     "data": {
      "text/plain": [
       "'12/11/2024'"
      ]
     },
     "execution_count": 20,
     "metadata": {},
     "output_type": "execute_result"
    }
   ],
   "source": [
    "user_date = input(\"Please enter date like YYYY-MM-DD: \")\n",
    "\n",
    "date = datetime.strptime(user_date, \"%Y-%m-%d\")\n",
    "\n",
    "converted_date = date.strftime(\"%d/%m/%Y\")\n",
    "converted_date"
   ]
  },
  {
   "cell_type": "markdown",
   "metadata": {},
   "source": []
  },
  {
   "cell_type": "markdown",
   "metadata": {},
   "source": [
    "3. Calculating Age\n",
    "- Write a program that takes a user's birth date as input and calculates their age in years."
   ]
  },
  {
   "cell_type": "code",
   "execution_count": 22,
   "metadata": {},
   "outputs": [
    {
     "data": {
      "text/plain": [
       "2024"
      ]
     },
     "execution_count": 22,
     "metadata": {},
     "output_type": "execute_result"
    }
   ],
   "source": [
    "now.year"
   ]
  },
  {
   "cell_type": "code",
   "execution_count": 24,
   "metadata": {},
   "outputs": [
    {
     "name": "stdout",
     "output_type": "stream",
     "text": [
      "Your age is 28\n"
     ]
    }
   ],
   "source": [
    "dob = input(\"Please enter your dob yyyy-mm-dd: \")\n",
    "\n",
    "birth_year = datetime.strptime(dob, \"%Y-%m-%d\").year\n",
    "\n",
    "age = now.year - birth_year\n",
    "print(f\"Your age is {age}\")"
   ]
  },
  {
   "cell_type": "markdown",
   "metadata": {},
   "source": [
    "Time Difference\n",
    "- Create a function that takes two datetime strings (in the format YYYY-MM-DD HH:MM:SS) and returns the difference in days, hours, and minutes."
   ]
  },
  {
   "cell_type": "code",
   "execution_count": 43,
   "metadata": {},
   "outputs": [],
   "source": [
    "def time_difference(date1, date2):\n",
    "\n",
    "    dt1 = datetime.strptime(date1, \"%Y-%m-%d %H:%M:%S\")\n",
    "    dt2 = datetime.strptime(date2, \"%Y-%m-%d %H:%M:%S\")\n",
    "\n",
    "    # Calculate the difference\n",
    "    delta = abs(dt2 - dt1)\n",
    "\n",
    "    # Return days, hours and minutes\n",
    "    return delta.days, delta.seconds // 3600, (delta.seconds % 3600) // 60"
   ]
  },
  {
   "cell_type": "code",
   "execution_count": 45,
   "metadata": {},
   "outputs": [
    {
     "name": "stdout",
     "output_type": "stream",
     "text": [
      "Time difference: 6 days, 21 hours, 45 minutes\n"
     ]
    }
   ],
   "source": [
    "# calling the function\n",
    "dt1 = \"2024-11-12 12:30:00\"\n",
    "dt2 = \"2024-11-05 14:45:00\"\n",
    "result = time_difference(dt1, dt2)\n",
    "print(f\"Time difference: {result[0]} days, {result[1]} hours, {result[2]} minutes\")"
   ]
  },
  {
   "cell_type": "markdown",
   "metadata": {},
   "source": [
    "Leap Year Checker\n",
    "- Create a function that checks if a given year is a leap year or not."
   ]
  },
  {
   "cell_type": "code",
   "execution_count": 26,
   "metadata": {},
   "outputs": [
    {
     "name": "stdout",
     "output_type": "stream",
     "text": [
      "2024 is a leap year\n"
     ]
    }
   ],
   "source": [
    "year = int(input(\"Please enter year: \"))\n",
    "\n",
    "if year % 4 == 0:\n",
    "    print(f\"{year} is a leap year\")\n",
    "else:\n",
    "    print(f\"{year} is not a leap year\")"
   ]
  },
  {
   "cell_type": "markdown",
   "metadata": {},
   "source": [
    "Birthday Countdown\n",
    "- Create a program that takes a future birthday date as input and calculates how many days are left until that birthday."
   ]
  },
  {
   "cell_type": "code",
   "execution_count": 31,
   "metadata": {},
   "outputs": [
    {
     "name": "stdout",
     "output_type": "stream",
     "text": [
      "Days left till your Birthday: 306\n"
     ]
    }
   ],
   "source": [
    "# future date\n",
    "birthday = input(\"Please enter your dob yyyy-mm-dd: \")\n",
    "\n",
    "birthday_date = datetime.strptime(birthday, \"%Y-%m-%d\")\n",
    "\n",
    "days_left = birthday_date - now\n",
    "\n",
    "print(f\"Days left till your Birthday: {days_left.days}\") "
   ]
  },
  {
   "cell_type": "markdown",
   "metadata": {},
   "source": [
    "Weekday Name\n",
    "- Write a function that takes a date as input and returns the name of the day of the week (e.g., Monday, Tuesday)."
   ]
  },
  {
   "cell_type": "code",
   "execution_count": 46,
   "metadata": {},
   "outputs": [
    {
     "data": {
      "text/plain": [
       "'November'"
      ]
     },
     "execution_count": 46,
     "metadata": {},
     "output_type": "execute_result"
    }
   ],
   "source": [
    "now.strftime(\"%B\")"
   ]
  },
  {
   "cell_type": "code",
   "execution_count": 64,
   "metadata": {},
   "outputs": [
    {
     "name": "stdout",
     "output_type": "stream",
     "text": [
      "Data transformed successfully done!\n"
     ]
    }
   ],
   "source": [
    "# mini project\n",
    "\n",
    "# date converter\n",
    "\n",
    "import csv\n",
    "\n",
    "with open('day13_dates.csv', 'r') as file:\n",
    "    reader = csv.DictReader(file)\n",
    "\n",
    "    with open(\"dates_con.csv\", \"w\", newline=\"\") as x:\n",
    "        writer = csv.writer(x)\n",
    "\n",
    "        # Adding header\n",
    "        writer.writerow([\"Date\", \"Day Name\", \"Month Name\", \"Year\"])\n",
    "\n",
    "\n",
    "        for row in reader:\n",
    "            date = datetime.strptime(row[\"date\"], \"%Y-%m-%d\")\n",
    "            day_name = date.strftime(\"%A\")\n",
    "            month_name = date.strftime(\"%B\")\n",
    "            year = date.year\n",
    "\n",
    "            # storing the data\n",
    "            writer.writerow([date, day_name, month_name, year])\n",
    "        print(\"Data transformed successfully done!\")"
   ]
  },
  {
   "cell_type": "code",
   "execution_count": null,
   "metadata": {},
   "outputs": [],
   "source": [
    "import csv\n",
    "from datetime import datetime\n",
    "\n",
    "\n",
    "# Load the CSV data\n",
    "with open('dates.csv', mode='r') as file:\n",
    "    reader = csv.DictReader(file)\n",
    "    \n",
    "    # Prepare a list to store transformed data\n",
    "    transformed_data = []\n",
    "\n",
    "    for row in reader:\n",
    "        date_str = row['date']\n",
    "        date_obj = datetime.strptime(date_str, '%Y-%m-%d')\n",
    "\n",
    "        # Perform transformations\n",
    "        day_name = date_obj.strftime('%A')  # Day name\n",
    "        month_name = date_obj.strftime('%B')  # Month name\n",
    "        year = date_obj.year  # Year\n",
    "\n",
    "        # Append transformed data to the list\n",
    "        transformed_data.append({\n",
    "            'id': row['id'],\n",
    "            'date': date_str,\n",
    "            'day_name': day_name,\n",
    "            'month_name': month_name,\n",
    "            'year': year\n",
    "        })\n",
    "\n",
    "# Print the transformed data\n",
    "for data in transformed_data:\n",
    "    print(data)\n"
   ]
  }
 ],
 "metadata": {
  "kernelspec": {
   "display_name": "my_venv",
   "language": "python",
   "name": "python3"
  },
  "language_info": {
   "codemirror_mode": {
    "name": "ipython",
    "version": 3
   },
   "file_extension": ".py",
   "mimetype": "text/x-python",
   "name": "python",
   "nbconvert_exporter": "python",
   "pygments_lexer": "ipython3",
   "version": "3.12.6"
  }
 },
 "nbformat": 4,
 "nbformat_minor": 2
}
