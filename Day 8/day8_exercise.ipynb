{
 "cells": [
  {
   "cell_type": "markdown",
   "metadata": {},
   "source": [
    "### Exercise of the day\n",
    "\n",
    "1. **Task 1**: Write a function `sum_of_list(lst)` that takes a list of numbers as input and returns the sum of all the elements in the list.\n",
    "\n",
    "2. **Task 2**: Create a function `multiply_list_elements(lst, multiplier)` that multiplies each element in a list by a given multiplier and returns the new list.\n",
    "\n",
    "3. **Task 3**: Define a function `count_words(sentence)` that takes a string (sentence) and returns the number of words in it.\n",
    "\n",
    "4. **Task 4**: Write a function `find_minimum(numbers)` that returns the smallest number in a list of numbers.\n",
    "\n",
    "5. **Task 5**: Create a function `fibonacci(n)` that returns the first `n` numbers in the Fibonacci sequence.\n",
    "\n",
    "6. **Task 6**: Define a function `string_length(str_list)` that takes a list of strings and returns a new list containing the length of each string.\n",
    "\n",
    "7. **Task 7**: Write a function `capitalize_names(names)` that takes a list of names and returns a new list where each name is capitalized.\n",
    "\n",
    "8. **Task 8**: Create a function `remove_duplicates(lst)` that removes any duplicate elements from a list and returns the list with unique elements only.\n",
    "\n",
    "9. **Task 9**: Write a function `prime_check(num)` that checks if a number is a prime number. Return `True` if it is, otherwise `False`.\n",
    "\n",
    "10. **Task 10**: Define a function `calculate_discount(price, discount_percentage)` that calculates and returns the discounted price of an item based on the original price and discount percentage."
   ]
  },
  {
   "cell_type": "markdown",
   "metadata": {},
   "source": [
    "1. **Task 1**: Write a function `sum_of_list(lst)` that takes a list of numbers as input and returns the sum of all the elements in the list."
   ]
  },
  {
   "cell_type": "code",
   "execution_count": 3,
   "metadata": {},
   "outputs": [],
   "source": [
    "def sum_of_list(lst):\n",
    "    Summation = sum(lst)\n",
    "    return print(f\"The summation is {Summation}\")"
   ]
  },
  {
   "cell_type": "code",
   "execution_count": 4,
   "metadata": {},
   "outputs": [
    {
     "name": "stdout",
     "output_type": "stream",
     "text": [
      "The summation is 34\n"
     ]
    }
   ],
   "source": [
    "# calling the function\n",
    "lst = [3, 9, 10, 12]\n",
    "\n",
    "Summation = sum_of_list(lst)"
   ]
  },
  {
   "cell_type": "markdown",
   "metadata": {},
   "source": [
    "**Task 2**: Create a function `multiply_list_elements(lst, multiplier)` that multiplies each element in a list by a given multiplier and returns the new list."
   ]
  },
  {
   "cell_type": "code",
   "execution_count": 17,
   "metadata": {},
   "outputs": [],
   "source": [
    "def multiply_list_elements(lst, multiplier):\n",
    "    new_list = [i * multiplier for i in lst]\n",
    "    return new_list"
   ]
  },
  {
   "cell_type": "code",
   "execution_count": 18,
   "metadata": {},
   "outputs": [
    {
     "name": "stdout",
     "output_type": "stream",
     "text": [
      "New list is [20, 40, 60, 80, 100]\n"
     ]
    }
   ],
   "source": [
    "# calling function\n",
    "lst = [10, 20, 30, 40, 50]\n",
    "multiplier = 2\n",
    "\n",
    "new_list = multiply_list_elements(lst, multiplier)\n",
    "print(f\"New list is {new_list}\")\n"
   ]
  },
  {
   "cell_type": "markdown",
   "metadata": {},
   "source": [
    "**Task 3**: Define a function `count_words(sentence)` that takes a string (sentence) and returns the number of words in it.\n"
   ]
  },
  {
   "cell_type": "code",
   "execution_count": 48,
   "metadata": {},
   "outputs": [],
   "source": [
    "def count_words(sentence):\n",
    "    number_of_words = len(sentence.split())\n",
    "    return print(f\"The number of words in the sentence is {number_of_words}\")"
   ]
  },
  {
   "cell_type": "code",
   "execution_count": 49,
   "metadata": {},
   "outputs": [
    {
     "name": "stdout",
     "output_type": "stream",
     "text": [
      "The number of words in the sentence is 5\n"
     ]
    }
   ],
   "source": [
    "# calling the function\n",
    "sentence = \"Mama is a good cook\"\n",
    "count_words(sentence)"
   ]
  },
  {
   "cell_type": "markdown",
   "metadata": {},
   "source": [
    "**Task 4**: Write a function `find_minimum(numbers)` that returns the smallest number in a list of numbers."
   ]
  },
  {
   "cell_type": "code",
   "execution_count": 45,
   "metadata": {},
   "outputs": [],
   "source": [
    "def find_minimum(numbers):\n",
    "    minimum = min(numbers)\n",
    "    return print(f\"The minimum number in the list is {minimum}\")"
   ]
  },
  {
   "cell_type": "code",
   "execution_count": 46,
   "metadata": {},
   "outputs": [
    {
     "name": "stdout",
     "output_type": "stream",
     "text": [
      "The minimum number in the list is 23\n"
     ]
    }
   ],
   "source": [
    "# calling the function\n",
    "numbers = [23, 10000, 78, 98]\n",
    "find_minimum(numbers)"
   ]
  },
  {
   "cell_type": "markdown",
   "metadata": {},
   "source": [
    "**Task 5**: Create a function `fibonacci(n)` that returns the first `n` numbers in the Fibonacci sequence.\n"
   ]
  },
  {
   "cell_type": "code",
   "execution_count": 50,
   "metadata": {},
   "outputs": [],
   "source": [
    "def fibonacci(n):\n",
    "    # Check for invalid input\n",
    "    if n <= 0:\n",
    "        return[] # Return an empty list for non-positive input\n",
    "    \n",
    "    # Handle the cases for n = 1 and n = 2\n",
    "    if n == 1:\n",
    "        return [0]\n",
    "    elif n == 2:\n",
    "        return [0, 1]\n",
    "    \n",
    "    # Starting the sequence with the first two Fibonacci numbers\n",
    "    fib_sequence = [0, 1]\n",
    "\n",
    "    # Generate the Fibonacci sequence upto n numbers\n",
    "\n",
    "    for _ in range(2, n):\n",
    "        next_number = fib_sequence[-1] + fib_sequence[-2] # Sum of the last two numbers\n",
    "        fib_sequence.append(next_number)\n",
    "    return fib_sequence"
   ]
  },
  {
   "cell_type": "code",
   "execution_count": 51,
   "metadata": {},
   "outputs": [
    {
     "data": {
      "text/plain": [
       "[0, 1, 1, 2, 3, 5, 8, 13, 21, 34]"
      ]
     },
     "execution_count": 51,
     "metadata": {},
     "output_type": "execute_result"
    }
   ],
   "source": [
    "# calling the function\n",
    "n = 10\n",
    "fibonacci(10)"
   ]
  },
  {
   "cell_type": "markdown",
   "metadata": {},
   "source": [
    "**Task 6**: Define a function `string_length(str_list)` that takes a list of strings and returns a new list containing the length of each string.\n"
   ]
  },
  {
   "cell_type": "code",
   "execution_count": 56,
   "metadata": {},
   "outputs": [],
   "source": [
    "def string_length(str_list):\n",
    "    length_of_string = [len(i) for i in str_list]\n",
    "    return print(f\"The length of each string is {length_of_string}\")"
   ]
  },
  {
   "cell_type": "code",
   "execution_count": 57,
   "metadata": {},
   "outputs": [
    {
     "name": "stdout",
     "output_type": "stream",
     "text": [
      "The length of each string is [19, 3, 10]\n"
     ]
    }
   ],
   "source": [
    "# calling the function \n",
    "str_list = [\"Mama is a good cook\", \"Boy\", \"On my mama\"]\n",
    "string_length(str_list)"
   ]
  },
  {
   "cell_type": "markdown",
   "metadata": {},
   "source": [
    "**Task 7**: Write a function `capitalize_names(names)` that takes a list of names and returns a new list where each name is capitalized."
   ]
  },
  {
   "cell_type": "code",
   "execution_count": 62,
   "metadata": {},
   "outputs": [],
   "source": [
    "def capitalize_names(names):\n",
    "    capital_names = [name.title() for name in names]\n",
    "    return print(f\"The capitalized names are {capital_names}\")"
   ]
  },
  {
   "cell_type": "code",
   "execution_count": 66,
   "metadata": {},
   "outputs": [
    {
     "name": "stdout",
     "output_type": "stream",
     "text": [
      "The capitalized names are ['Rahul Punjani', 'The River And The Source', 'Memories We Lost', 'Blossoms Of The Savannah']\n"
     ]
    }
   ],
   "source": [
    "# calling the function\n",
    "names = [\"rahul punjani\", \"the river and the source\", \"memories we lost\", \"blossoms of the savannah\"]\n",
    "capitalize_names(names)"
   ]
  },
  {
   "cell_type": "markdown",
   "metadata": {},
   "source": [
    "**Task 8**: Create a function `remove_duplicates(lst)` that removes any duplicate elements from a list and returns the list with unique elements only."
   ]
  },
  {
   "cell_type": "code",
   "execution_count": 67,
   "metadata": {},
   "outputs": [],
   "source": [
    "def remove_duplicates(lst):\n",
    "    unique_elements = list(set(lst))\n",
    "    return print(f\"The unique elements are {unique_elements}\")"
   ]
  },
  {
   "cell_type": "code",
   "execution_count": 68,
   "metadata": {},
   "outputs": [
    {
     "name": "stdout",
     "output_type": "stream",
     "text": [
      "The unique elements are ['data', 'visualization', 'plotting']\n"
     ]
    }
   ],
   "source": [
    "# calling the function\n",
    "lst = [\"data\", \"plotting\", \"visualization\", \"data\", \"plotting\"]\n",
    "remove_duplicates(lst)"
   ]
  },
  {
   "cell_type": "markdown",
   "metadata": {},
   "source": [
    "**Task 9**: Write a function `prime_check(num)` that checks if a number is a prime number. Return `True` if it is, otherwise `False`."
   ]
  },
  {
   "cell_type": "code",
   "execution_count": 75,
   "metadata": {},
   "outputs": [],
   "source": [
    "import math \n",
    "def prime_check(num):\n",
    "    if num <= 1:\n",
    "        return False # Numbers less than or equal to 1 are not prime\n",
    "    if num == 2:\n",
    "        return True # 2 is the only even prime number\n",
    "    if num % 2 == 0:\n",
    "        return False # Even numbers greater than 2 are not prime\n",
    "    \n",
    "    # Check divisibility upto the square root of n\n",
    "    for i in range(3, int(math.sqrt(num) + 1), 2):\n",
    "        if num % i == 0:\n",
    "            return False # Found a divisor, not prime\n",
    "    return True\n"
   ]
  },
  {
   "cell_type": "code",
   "execution_count": 80,
   "metadata": {},
   "outputs": [
    {
     "name": "stdout",
     "output_type": "stream",
     "text": [
      "False\n"
     ]
    }
   ],
   "source": [
    "# calling the function\n",
    "num = 100\n",
    "\n",
    "if prime_check(num):\n",
    "    print (\"True\")\n",
    "else:\n",
    "    print(\"False\")"
   ]
  },
  {
   "cell_type": "markdown",
   "metadata": {},
   "source": [
    "**Task 10**: Define a function `calculate_discount(price, discount_percentage)` that calculates and returns the discounted price of an item based on the original price and discount percentage."
   ]
  },
  {
   "cell_type": "code",
   "execution_count": 78,
   "metadata": {},
   "outputs": [],
   "source": [
    "def calculate_discount(price, discount_percentage):\n",
    "    discounted_price = (price * discount_percentage)\n",
    "    return print(f\"The discounted price of the item is {discounted_price}\")"
   ]
  },
  {
   "cell_type": "code",
   "execution_count": 79,
   "metadata": {},
   "outputs": [
    {
     "name": "stdout",
     "output_type": "stream",
     "text": [
      "The discounted price of the item is 250.0\n"
     ]
    }
   ],
   "source": [
    "# calling the function\n",
    "price = 1000\n",
    "discount_percentage = 0.25\n",
    "calculate_discount(price, discount_percentage)"
   ]
  }
 ],
 "metadata": {
  "kernelspec": {
   "display_name": "my_venv",
   "language": "python",
   "name": "python3"
  },
  "language_info": {
   "codemirror_mode": {
    "name": "ipython",
    "version": 3
   },
   "file_extension": ".py",
   "mimetype": "text/x-python",
   "name": "python",
   "nbconvert_exporter": "python",
   "pygments_lexer": "ipython3",
   "version": "3.12.6"
  }
 },
 "nbformat": 4,
 "nbformat_minor": 2
}
