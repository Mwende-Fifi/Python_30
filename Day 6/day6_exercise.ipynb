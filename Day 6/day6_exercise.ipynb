{
 "cells": [
  {
   "cell_type": "markdown",
   "metadata": {},
   "source": [
    "### **Exercise 1: Even or Odd**\n",
    "Write a program that takes an integer input from the user and checks whether the number is even or odd.\n",
    "\n",
    "```python\n",
    "# Example:\n",
    "# Input: 7\n",
    "# Output: Odd\n",
    "```\n",
    "\n",
    "---\n",
    "\n",
    "### **Exercise 2: Check Voting Eligibility**\n",
    "Write a program that asks for the user's age and checks if the person is eligible to vote (age 18 or older).\n",
    "\n",
    "```python\n",
    "# Example:\n",
    "# Input: 20\n",
    "# Output: You are eligible to vote.\n",
    "```\n",
    "\n",
    "---\n",
    "\n",
    "### **Exercise 3: Number Classification**\n",
    "Write a program that takes an integer from the user and prints whether the number is positive, negative, or zero.\n",
    "\n",
    "```python\n",
    "# Example:\n",
    "# Input: -5\n",
    "# Output: Negative\n",
    "```\n",
    "\n",
    "---\n",
    "\n",
    "### **Exercise 4: Grade Classification**\n",
    "Write a program that takes a student's score (0-100) and prints their grade based on the following rules:\n",
    "- Score >= 90: Grade A\n",
    "- Score >= 75: Grade B\n",
    "- Score >= 50: Grade C\n",
    "- Score < 50: Grade F\n",
    "\n",
    "```python\n",
    "# Example:\n",
    "# Input: 85\n",
    "# Output: Grade B\n",
    "```\n",
    "\n",
    "---\n",
    "\n",
    "### **Exercise 5: Temperature Check**\n",
    "Write a program that asks the user for the temperature in degrees Celsius and prints whether it is \"Cold\", \"Warm\", or \"Hot\" based on the following conditions:\n",
    "- Below 15°C: Cold\n",
    "- 15°C to 30°C: Warm\n",
    "- Above 30°C: Hot\n",
    "\n",
    "```python\n",
    "# Example:\n",
    "# Input: 28\n",
    "# Output: Warm\n",
    "```\n",
    "\n",
    "---\n",
    "\n",
    "### **Exercise 6: Maximum of Three Numbers**\n",
    "Write a program that takes three numbers as input and prints the largest of the three.\n",
    "\n",
    "```python\n",
    "# Example:\n",
    "# Input: 5, 12, 7\n",
    "# Output: The largest number is 12\n",
    "```\n",
    "\n",
    "---\n",
    "\n",
    "### **Exercise 7: Leap Year Check**\n",
    "Write a program that asks the user for a year and checks whether it's a leap year or not. A year is a leap year if:\n",
    "- It is divisible by 4\n",
    "- But not divisible by 100 unless it is also divisible by 400\n",
    "\n",
    "```python\n",
    "# Example:\n",
    "# Input: 2024\n",
    "# Output: Leap Year\n",
    "```\n",
    "\n",
    "---\n",
    "\n",
    "### **Exercise 8: Traffic Light Action**\n",
    "Write a program that simulates a traffic light. The user inputs the color of the traffic light (\"Red\", \"Yellow\", or \"Green\") and the program prints the corresponding action:\n",
    "- \"Red\" → \"Stop\"\n",
    "- \"Yellow\" → \"Slow Down\"\n",
    "- \"Green\" → \"Go\"\n",
    "\n",
    "```python\n",
    "# Example:\n",
    "# Input: Red\n",
    "# Output: Stop\n",
    "```\n",
    "\n",
    "---\n",
    "\n",
    "### **Exercise 9: Number Comparison**\n",
    "Write a program that takes two numbers from the user and prints whether the first number is greater than, less than, or equal to the second number.\n",
    "\n",
    "```python\n",
    "# Example:\n",
    "# Input: 10, 15\n",
    "# Output: 10 is less than 15\n",
    "```\n",
    "\n",
    "---\n",
    "\n",
    "### **Exercise 10: Day of the Week**\n",
    "Write a program that takes an integer input (1 to 7) and prints the corresponding day of the week. For example:\n",
    "- 1 → Monday\n",
    "- 2 → Tuesday\n",
    "- 3 → Wednesday\n",
    "- 4 → Thursday\n",
    "- 5 → Friday\n",
    "- 6 → Saturday\n",
    "- 7 → Sunday\n",
    "\n",
    "```python\n",
    "# Example:\n",
    "# Input: 4\n",
    "# Output: Thursday\n",
    "```"
   ]
  },
  {
   "cell_type": "markdown",
   "metadata": {},
   "source": [
    "### **Exercise 1: Even or Odd**\n",
    "Write a program that takes an integer input from the user and checks whether the number is even or odd.\n",
    "\n",
    "```python\n",
    "# Example:\n",
    "# Input: 7\n",
    "# Output: Odd\n",
    "```"
   ]
  },
  {
   "cell_type": "code",
   "execution_count": 1,
   "metadata": {},
   "outputs": [
    {
     "name": "stdout",
     "output_type": "stream",
     "text": [
      "Odd\n"
     ]
    }
   ],
   "source": [
    "number = int(input(\"Please enter an number: \"))\n",
    "\n",
    "if (number % 2) != 0:\n",
    "    print(\"Odd\")\n",
    "else:\n",
    "    print(\"Even\")\n"
   ]
  },
  {
   "cell_type": "markdown",
   "metadata": {},
   "source": [
    "### **Exercise 2: Check Voting Eligibility**\n",
    "Write a program that asks for the user's age and checks if the person is eligible to vote (age 18 or older).\n",
    "\n",
    "```python\n",
    "# Example:\n",
    "# Input: 20\n",
    "# Output: You are eligible to vote.\n",
    "```"
   ]
  },
  {
   "cell_type": "code",
   "execution_count": 3,
   "metadata": {},
   "outputs": [
    {
     "name": "stdout",
     "output_type": "stream",
     "text": [
      "You are eligible to vote\n"
     ]
    }
   ],
   "source": [
    "user_age = int(input(\"Please enter your age: \"))\n",
    "\n",
    "if user_age >= 18:\n",
    "    print(\"You are eligible to vote\")\n",
    "else:\n",
    "    print(\"You are not eligible to vote\")"
   ]
  },
  {
   "cell_type": "markdown",
   "metadata": {},
   "source": [
    "### **Exercise 3: Number Classification**\n",
    "Write a program that takes an integer from the user and prints whether the number is positive, negative, or zero.\n",
    "\n",
    "```python\n",
    "# Example:\n",
    "# Input: -5\n",
    "# Output: Negative\n",
    "```"
   ]
  },
  {
   "cell_type": "code",
   "execution_count": 4,
   "metadata": {},
   "outputs": [
    {
     "name": "stdout",
     "output_type": "stream",
     "text": [
      "Negative\n"
     ]
    }
   ],
   "source": [
    "integer = int(input(\"Please enter an integer: \"))\n",
    "\n",
    "if integer > 0:\n",
    "    print(\"Positive\")\n",
    "elif integer < 0:\n",
    "    print(\"Negative\")\n",
    "else:\n",
    "    print(\"Zero\")"
   ]
  },
  {
   "cell_type": "markdown",
   "metadata": {},
   "source": [
    "### **Exercise 4: Grade Classification**\n",
    "Write a program that takes a student's score (0-100) and prints their grade based on the following rules:\n",
    "- Score >= 90: Grade A\n",
    "- Score >= 75: Grade B\n",
    "- Score >= 50: Grade C\n",
    "- Score < 50: Grade F\n",
    "\n",
    "```python\n",
    "# Example:\n",
    "# Input: 85\n",
    "# Output: Grade B\n",
    "```"
   ]
  },
  {
   "cell_type": "code",
   "execution_count": 5,
   "metadata": {},
   "outputs": [
    {
     "name": "stdout",
     "output_type": "stream",
     "text": [
      "Grade B\n"
     ]
    }
   ],
   "source": [
    "student_score = int(input(\"Please enter your score: \"))\n",
    "\n",
    "if student_score >= 90:\n",
    "    print(\"Grade A\")\n",
    "elif student_score >= 75:\n",
    "    print(\"Grade B\")\n",
    "elif student_score >= 50:\n",
    "    print(\"Grade C\")\n",
    "else:\n",
    "    print(\"Grade F\")\n"
   ]
  },
  {
   "cell_type": "markdown",
   "metadata": {},
   "source": [
    "### **Exercise 5: Temperature Check**\n",
    "Write a program that asks the user for the temperature in degrees Celsius and prints whether it is \"Cold\", \"Warm\", or \"Hot\" based on the following conditions:\n",
    "- Below 15°C: Cold\n",
    "- 15°C to 30°C: Warm\n",
    "- Above 30°C: Hot\n",
    "\n",
    "```python\n",
    "# Example:\n",
    "# Input: 28\n",
    "# Output: Warm"
   ]
  },
  {
   "cell_type": "code",
   "execution_count": 6,
   "metadata": {},
   "outputs": [
    {
     "name": "stdout",
     "output_type": "stream",
     "text": [
      "Warm\n"
     ]
    }
   ],
   "source": [
    "temp = int(input(\"Enter the temperature in degrees Celcius: \"))\n",
    "\n",
    "if temp < 15:\n",
    "    print(\"Cold\")\n",
    "elif (15 <= temp <= 30):\n",
    "    print(\"Warm\")\n",
    "else:\n",
    "    print(\"Hot\")"
   ]
  },
  {
   "cell_type": "markdown",
   "metadata": {},
   "source": [
    "### **Exercise 6: Maximum of Three Numbers**\n",
    "Write a program that takes three numbers as input and prints the largest of the three.\n",
    "\n",
    "```python\n",
    "# Example:\n",
    "# Input: 5, 12, 7\n",
    "# Output: The largest number is 12\n",
    "```"
   ]
  },
  {
   "cell_type": "code",
   "execution_count": 14,
   "metadata": {},
   "outputs": [
    {
     "name": "stdout",
     "output_type": "stream",
     "text": [
      "The largest number is 12\n"
     ]
    }
   ],
   "source": [
    "num1 = int(input(\"Please enter the first number: \"))\n",
    "num2 = int(input(\"Please enter the second number: \"))\n",
    "num3 = int(input(\"Please enter the third number: \"))\n",
    "\n",
    "if (num1 >= num2) and (num1 >= num3):\n",
    "    largest = num1\n",
    "elif (num2 >= num1) and (num2 >= num3):\n",
    "    largest = num2\n",
    "else:\n",
    "    largest = num3\n",
    "print(f\"The largest number is {largest}\")"
   ]
  },
  {
   "cell_type": "markdown",
   "metadata": {},
   "source": [
    "### **Exercise 7: Leap Year Check**\n",
    "Write a program that asks the user for a year and checks whether it's a leap year or not. A year is a leap year if:\n",
    "- It is divisible by 4\n",
    "- But not divisible by 100 unless it is also divisible by 400\n",
    "\n",
    "```python\n",
    "# Example:\n",
    "# Input: 2024\n",
    "# Output: Leap Year\n",
    "```"
   ]
  },
  {
   "cell_type": "code",
   "execution_count": 17,
   "metadata": {},
   "outputs": [
    {
     "name": "stdout",
     "output_type": "stream",
     "text": [
      "Leap Year\n"
     ]
    }
   ],
   "source": [
    "yr = int(input(\"Please enter year: \"))\n",
    "\n",
    "if (yr % 4 == 0) and ((yr % 100 != 0) or (yr % 400 == 0)):\n",
    "    print(\"Leap Year\")\n",
    "else:\n",
    "    print(\"Not a leap year\")"
   ]
  },
  {
   "cell_type": "markdown",
   "metadata": {},
   "source": [
    "### **Exercise 8: Traffic Light Action**\n",
    "Write a program that simulates a traffic light. The user inputs the color of the traffic light (\"Red\", \"Yellow\", or \"Green\") and the program prints the corresponding action:\n",
    "- \"Red\" → \"Stop\"\n",
    "- \"Yellow\" → \"Slow Down\"\n",
    "- \"Green\" → \"Go\"\n",
    "\n",
    "```python\n",
    "# Example:\n",
    "# Input: Red\n",
    "# Output: Stop\n",
    "```"
   ]
  },
  {
   "cell_type": "code",
   "execution_count": 18,
   "metadata": {},
   "outputs": [
    {
     "name": "stdout",
     "output_type": "stream",
     "text": [
      "Stop\n"
     ]
    }
   ],
   "source": [
    "color_meaning = input(\"Please enter a color of the traffic light: \")\n",
    "\n",
    "if color_meaning == \"Red\":\n",
    "    print(\"Stop\")\n",
    "elif color_meaning == \"Yellow\":\n",
    "    print(\"Slow Down\")\n",
    "else:\n",
    "    print(\"Go\")"
   ]
  },
  {
   "cell_type": "markdown",
   "metadata": {},
   "source": [
    "### **Exercise 9: Number Comparison**\n",
    "Write a program that takes two numbers from the user and prints whether the first number is greater than, less than, or equal to the second number.\n",
    "\n",
    "```python\n",
    "# Example:\n",
    "# Input: 10, 15\n",
    "# Output: 10 is less than 15\n",
    "```"
   ]
  },
  {
   "cell_type": "code",
   "execution_count": 20,
   "metadata": {},
   "outputs": [
    {
     "name": "stdout",
     "output_type": "stream",
     "text": [
      "10 is less than 15\n"
     ]
    }
   ],
   "source": [
    "num1 = int(input(\"Please enter the first integer: \"))\n",
    "num2 = int(input(\"Please enter the second integer: \"))\n",
    "\n",
    "if num1 > num2:\n",
    "    print(f\"{num1} is greater than {num2}\")\n",
    "elif num1 < num2:\n",
    "    print(f\"{num1} is less than {num2}\")\n",
    "else:\n",
    "    print(f\"{num1} is equal to {num2}\")"
   ]
  },
  {
   "cell_type": "markdown",
   "metadata": {},
   "source": [
    "### **Exercise 10: Day of the Week**\n",
    "Write a program that takes an integer input (1 to 7) and prints the corresponding day of the week. For example:\n",
    "- 1 → Monday\n",
    "- 2 → Tuesday\n",
    "- 3 → Wednesday\n",
    "- 4 → Thursday\n",
    "- 5 → Friday\n",
    "- 6 → Saturday\n",
    "- 7 → Sunday\n",
    "\n",
    "```python\n",
    "# Example:\n",
    "# Input: 4\n",
    "# Output: Thursday\n",
    "```"
   ]
  },
  {
   "cell_type": "code",
   "execution_count": 23,
   "metadata": {},
   "outputs": [
    {
     "name": "stdout",
     "output_type": "stream",
     "text": [
      "Output: Thursday\n"
     ]
    }
   ],
   "source": [
    "Day = int(input(\"Please an integer: \"))\n",
    "\n",
    "\n",
    "if Day == 1:\n",
    "    print(\"Output: Monday\")\n",
    "elif Day == 2:\n",
    "    print(\"Output: Tuesday\")\n",
    "elif Day == 3:\n",
    "    print(\"Output: Wednesday\")\n",
    "elif Day == 4:\n",
    "    print(\"Output: Thursday\")\n",
    "elif Day == 5:\n",
    "    print(\"Output: Friday\")\n",
    "elif Day == 6:\n",
    "    print(\"Output: Saturday\")\n",
    "else:\n",
    "    print(\"Output: Sunday\")\n"
   ]
  }
 ],
 "metadata": {
  "kernelspec": {
   "display_name": "my_venv",
   "language": "python",
   "name": "python3"
  },
  "language_info": {
   "codemirror_mode": {
    "name": "ipython",
    "version": 3
   },
   "file_extension": ".py",
   "mimetype": "text/x-python",
   "name": "python",
   "nbconvert_exporter": "python",
   "pygments_lexer": "ipython3",
   "version": "3.12.6"
  }
 },
 "nbformat": 4,
 "nbformat_minor": 2
}
