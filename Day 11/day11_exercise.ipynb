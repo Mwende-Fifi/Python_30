{
 "cells": [
  {
   "cell_type": "markdown",
   "metadata": {},
   "source": [
    "### Practice Exercises\n",
    "\n",
    "#### 1. **Handling Division Errors**  \n",
    "Write a function that takes two numbers as input and divides them. Handle both `ZeroDivisionError` and `ValueError` if invalid inputs are provided.\n",
    "\n",
    "#### 2. **Opening a File Safely**  \n",
    "Write a program to open and read a file. Use `try`, `except`, and `finally` blocks to handle exceptions if the file does not exist, and make sure the file is closed properly.\n",
    "\n",
    "#### 3. **Creating a Custom Exception**  \n",
    "Create a custom exception called `OutOfRangeError`. Write a function that takes a number as input and raises this exception if the number is not between 1 and 100.\n",
    "\n",
    "#### 4. **Multiple Exceptions**  \n",
    "Write a program that takes a number input and performs division by that number. Handle both `ZeroDivisionError` and `ValueError` and print custom messages for both.\n",
    "\n",
    "#### 5. **Input Validation**  \n",
    "Write a function that asks the user to enter their age. Raise a `ValueError` if the age is not between 1 and 120. Use `try-except` to handle the error gracefully.\n",
    "\n",
    "#### 6. **Custom Exception in a Game**  \n",
    "Create a custom exception called `GameOverError`. Write a game simulation function that raises this exception when the player runs out of lives.\n",
    "\n",
    "#### 7. **File Operations**  \n",
    "Write a program to open a file, read its content, and print it. Handle `FileNotFoundError` and ensure the file is always closed using `finally`.\n",
    "\n",
    "#### 8. **User-Defined Exception for Voting**  \n",
    "Create a function `check_voter_eligibility(age)` that raises a custom exception `UnderageError` if the user is under 18, and handles this error in a `try-except` block.\n",
    "\n",
    "#### 9. **Re-raising an Exception**  \n",
    "Write a program where you intentionally catch an exception and then re-raise it to propagate it upwards.\n",
    "\n",
    "#### 10. **Raising Custom Exception for Bank Withdrawal**  \n",
    "Create a class `BankAccount` with a method `withdraw(amount)`. Raise a custom `InsufficientFundsError` if the withdrawal amount is greater than the balance.\n"
   ]
  },
  {
   "cell_type": "markdown",
   "metadata": {},
   "source": [
    "#### 1. **Handling Division Errors**  \n",
    "Write a function that takes two numbers as input and divides them. Handle both `ZeroDivisionError` and `ValueError` if invalid inputs are provided."
   ]
  },
  {
   "cell_type": "code",
   "execution_count": 6,
   "metadata": {},
   "outputs": [
    {
     "name": "stdout",
     "output_type": "stream",
     "text": [
      "Sorry cannot divide x by zero\n"
     ]
    }
   ],
   "source": [
    "# ZeroDivisionError\n",
    "\n",
    "x = 5\n",
    "y = 0\n",
    "\n",
    "try:\n",
    "    x / y\n",
    "except ZeroDivisionError:\n",
    "    print(\"Sorry cannot divide x by zero\")\n",
    "except ValueError:\n",
    "    print(\"Incorrect value provided\")"
   ]
  },
  {
   "cell_type": "code",
   "execution_count": 8,
   "metadata": {},
   "outputs": [
    {
     "name": "stdout",
     "output_type": "stream",
     "text": [
      "Invalid input.Please enter a valid integer\n"
     ]
    }
   ],
   "source": [
    "# ValueError\n",
    "x = 5\n",
    "y = \"a\"\n",
    "\n",
    "try:\n",
    "    int(y)\n",
    "except ZeroDivisionError:\n",
    "    print(\"Sorry cannot divide x by zero\")\n",
    "except ValueError:\n",
    "    print(\"Invalid input.Please enter a valid integer\")\n"
   ]
  },
  {
   "cell_type": "markdown",
   "metadata": {},
   "source": [
    "#### 2. **Opening a File Safely**  \n",
    "Write a program to open and read a file. Use `try`, `except`, and `finally` blocks to handle exceptions if the file does not exist, and make sure the file is closed properly."
   ]
  },
  {
   "cell_type": "code",
   "execution_count": 10,
   "metadata": {},
   "outputs": [
    {
     "name": "stdout",
     "output_type": "stream",
     "text": [
      "Sorry file not found.Please enter correct file path\n"
     ]
    }
   ],
   "source": [
    "try:\n",
    "    with open(\"test1.txt\", \"r\") as file:\n",
    "        content = file.read()\n",
    "except FileNotFoundError:\n",
    "    print(\"Sorry file not found.Please enter correct file path\")\n",
    "finally:\n",
    "    (open(\"test.txt\", \"r\").close())"
   ]
  },
  {
   "cell_type": "markdown",
   "metadata": {},
   "source": [
    "#### 3. **Creating a Custom Exception**  \n",
    "Create a custom exception called `OutOfRangeError`. Write a function that takes a number as input and raises this exception if the number is not between 1 and 100."
   ]
  },
  {
   "cell_type": "code",
   "execution_count": 14,
   "metadata": {},
   "outputs": [
    {
     "name": "stdout",
     "output_type": "stream",
     "text": [
      "Error: Number -1 is out of the allowed range(1 - 100)\n"
     ]
    }
   ],
   "source": [
    "# Custom exception definition (simpler version)\n",
    "class OutOfRangeError(Exception):\n",
    "    pass\n",
    "\n",
    "# Function that checks the range and raises the custom exception\n",
    "def check_number_in_range(number):\n",
    "    if number < 1 or number > 100:\n",
    "        raise OutOfRangeError(f\"Number {number} is out of the allowed range(1 - 100)\")\n",
    "    else:\n",
    "        print(f\"Number {number} is within the allowed range.\")\n",
    "\n",
    "\n",
    "try:\n",
    "    user_input = int(input(\"Please enter a number between 1 and 100: \"))\n",
    "    check_number_in_range(user_input)\n",
    "\n",
    "except OutOfRangeError as e:\n",
    "    print(f\"Error: {e}\")\n",
    "\n",
    "except ValueError:\n",
    "    print(f\"Invalid input. Please enter an integer\")"
   ]
  },
  {
   "cell_type": "markdown",
   "metadata": {},
   "source": [
    "#### 4. **Multiple Exceptions**  \n",
    "Write a program that takes a number input and performs division by that number. Handle both `ZeroDivisionError` and `ValueError` and print custom messages for both."
   ]
  },
  {
   "cell_type": "code",
   "execution_count": 21,
   "metadata": {},
   "outputs": [
    {
     "name": "stdout",
     "output_type": "stream",
     "text": [
      "Error.Please enter a valid input\n"
     ]
    }
   ],
   "source": [
    "def divide_by_number(number):\n",
    "    try:\n",
    "        result = 100 / number\n",
    "        print(f\"Result by division is {result}\")\n",
    "    except ZeroDivisionError:\n",
    "        print(\"Sorry division of result by 0 is not possible\")\n",
    "    except ValueError:\n",
    "        print(\"Invalid input.Please enter correct value\")\n",
    "\n",
    "# Example usage\n",
    "try:\n",
    "    user_input = input(\"Please enter a number to divide 100 by: \")\n",
    "    number = float(user_input)\n",
    "    divide_by_number(number)\n",
    "\n",
    "except ValueError:\n",
    "    print(\"Error. Please enter a valid input\")"
   ]
  },
  {
   "cell_type": "markdown",
   "metadata": {},
   "source": [
    "#### 5. **Input Validation**  \n",
    "Write a function that asks the user to enter their age. Raise a `ValueError` if the age is not between 1 and 120. Use `try-except` to handle the error gracefully."
   ]
  },
  {
   "cell_type": "code",
   "execution_count": 33,
   "metadata": {},
   "outputs": [
    {
     "name": "stdout",
     "output_type": "stream",
     "text": [
      "Error: Age -5 is out of the allowed range (1 - 120)\n"
     ]
    }
   ],
   "source": [
    "def check_age_in_range(age):\n",
    "    if age < 1 or age > 120:\n",
    "        raise ValueError(f\"Age {age} is out of the allowed range (1 - 120)\")\n",
    "    else:\n",
    "        print(f\"Age {age} is within the allowed age range\")\n",
    "try:\n",
    "    user_input = int(input(\"Please enter an age range between 1 and 120: \"))\n",
    "    check_age_in_range(user_input)\n",
    "except ValueError as e:\n",
    "    print(f\"Error: {e}\")"
   ]
  },
  {
   "cell_type": "markdown",
   "metadata": {},
   "source": [
    "#### 6. **Custom Exception in a Game**  \n",
    "Create a custom exception called `GameOverError`. Write a game simulation function that raises this exception when the player runs out of lives."
   ]
  },
  {
   "cell_type": "code",
   "execution_count": 44,
   "metadata": {},
   "outputs": [
    {
     "name": "stdout",
     "output_type": "stream",
     "text": [
      "Error: You ran out of lives.You have 0 lives left\n"
     ]
    }
   ],
   "source": [
    "class GameOverError(Exception):\n",
    "    pass\n",
    "\n",
    "def ran_out_lives(number):\n",
    "    if number <= 0:\n",
    "        raise GameOverError(f\"You ran out of lives.You have {number} lives left\")\n",
    "    else:\n",
    "        print(f\"You have {number} lives remaining.Carry on with the game\")\n",
    "\n",
    "# Usage\n",
    "try:\n",
    "    number = 0\n",
    "    ran_out_lives(number)\n",
    "except GameOverError as ge:\n",
    "    print(f\"Error: {ge}\")"
   ]
  },
  {
   "cell_type": "markdown",
   "metadata": {},
   "source": [
    "#### 7. **File Operations**  \n",
    "Write a program to open a file, read its content, and print it. Handle `FileNotFoundError` and ensure the file is always closed using `finally`."
   ]
  },
  {
   "cell_type": "code",
   "execution_count": 45,
   "metadata": {},
   "outputs": [
    {
     "name": "stdout",
     "output_type": "stream",
     "text": [
      "File not found.Please enter the correct file path\n"
     ]
    }
   ],
   "source": [
    "try:\n",
    "    with open(\"example1.text\", \"r\") as file:\n",
    "        content = file.read()\n",
    "        print(content)\n",
    "except FileNotFoundError:\n",
    "    print(\"File not found.Please enter the correct file path\")\n",
    "finally:\n",
    "    open(\"example.text\", \"r\").close()"
   ]
  },
  {
   "cell_type": "markdown",
   "metadata": {},
   "source": [
    "#### 8. **User-Defined Exception for Voting**  \n",
    "Create a function `check_voter_eligibility(age)` that raises a custom exception `UnderageError` if the user is under 18, and handles this error in a `try-except` block."
   ]
  },
  {
   "cell_type": "code",
   "execution_count": 49,
   "metadata": {},
   "outputs": [
    {
     "name": "stdout",
     "output_type": "stream",
     "text": [
      "Age 21 is allowed to vote\n"
     ]
    }
   ],
   "source": [
    "class UnderageError(Exception):\n",
    "    pass\n",
    "def check_voter_eligibility(age):\n",
    "    if age < 18:\n",
    "        raise UnderageError(f\"You are underage ({age}) hence not allowed to vote\")\n",
    "    else:\n",
    "        print(f\"Age {age} is allowed to vote\")\n",
    "\n",
    "try:\n",
    "    user_input = int(input(\"Please enter your age: \"))\n",
    "    check_voter_eligibility(user_input)\n",
    "except UnderageError as ue:\n",
    "    print(f\"Error: {ue}\")"
   ]
  },
  {
   "cell_type": "markdown",
   "metadata": {},
   "source": [
    "#### 9. **Re-raising an Exception**  \n",
    "Write a program where you intentionally catch an exception and then re-raise it to propagate it upwards."
   ]
  },
  {
   "cell_type": "code",
   "execution_count": 3,
   "metadata": {},
   "outputs": [
    {
     "name": "stdout",
     "output_type": "stream",
     "text": [
      "Caught a ValueError. Invalid input. Only integers are allowed.\n",
      "The re-raised exception was caught here in the main block.\n"
     ]
    }
   ],
   "source": [
    "def process_input():\n",
    "    try:\n",
    "        num = int(input(\"Please enter an integer: \"))\n",
    "        print(f\"You entered an integer: ({num})\")\n",
    "    except ValueError as e:\n",
    "        print(\"Caught a ValueError. Invalid input. Only integers are allowed.\")\n",
    "        raise\n",
    "\n",
    "# Main block to handle the re-raised exception\n",
    "try:\n",
    "    process_input()\n",
    "except ValueError as e:\n",
    "    print(\"The re-raised exception was caught here in the main block.\")"
   ]
  },
  {
   "cell_type": "markdown",
   "metadata": {},
   "source": [
    "#### 10. **Raising Custom Exception for Bank Withdrawal**  \n",
    "Create a class `BankAccount` with a method `withdraw(amount)`. Raise a custom `InsufficientFundsError` if the withdrawal amount is greater than the balance."
   ]
  },
  {
   "cell_type": "code",
   "execution_count": 6,
   "metadata": {},
   "outputs": [
    {
     "name": "stdout",
     "output_type": "stream",
     "text": [
      "Error: Insufficient funds\n"
     ]
    }
   ],
   "source": [
    "# Custom exception for insufficient funds\n",
    "class InsufficientFundsError(Exception):\n",
    "    pass\n",
    "\n",
    "# BankAccount class\n",
    "class BankAccount:\n",
    "    def __init__(self, balance=0):\n",
    "        self.balance = balance\n",
    "\n",
    "    def withdraw(self, amount):\n",
    "        if amount > self.balance:\n",
    "            raise InsufficientFundsError(\"Insufficient funds\")\n",
    "        self.balance -= amount\n",
    "        print(f\"Withdrawn: {amount}. Remaining balance: {self.balance}\")\n",
    "\n",
    "# Example usage\n",
    "try:\n",
    "    account = BankAccount(100)\n",
    "    account.withdraw(150)\n",
    "except InsufficientFundsError as e:\n",
    "    print(f\"Error: {e}\")"
   ]
  }
 ],
 "metadata": {
  "kernelspec": {
   "display_name": "my_venv",
   "language": "python",
   "name": "python3"
  },
  "language_info": {
   "codemirror_mode": {
    "name": "ipython",
    "version": 3
   },
   "file_extension": ".py",
   "mimetype": "text/x-python",
   "name": "python",
   "nbconvert_exporter": "python",
   "pygments_lexer": "ipython3",
   "version": "3.12.6"
  }
 },
 "nbformat": 4,
 "nbformat_minor": 2
}
