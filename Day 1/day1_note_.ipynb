{
 "cells": [
  {
   "cell_type": "markdown",
   "metadata": {},
   "source": [
    "### Welcome 01/30 Python Series by  Zero Analyst"
   ]
  },
  {
   "cell_type": "markdown",
   "metadata": {},
   "source": [
    "**Setup Python Virtual Env**\n",
    "\n",
    "**Install Python on mac**\n",
    "- `brew install python`    \n",
    "- or download python --[click here](https://www.python.org/downloads/)\n",
    "\n",
    "\n",
    "**Install Python on Windows**  \n",
    "- or download python --[click here](https://www.python.org/downloads/)\n",
    "\n",
    "Install Instruction.pdf -- [Click here](https://docs.google.com/document/d/18DZncdHErA50pMZjlz-iuKVfQnmKVW541yfXSKePm6M/edit?usp=sharing)\n",
    "\n",
    "**Verify Python Pkg**\n",
    "- `python --V` or `python --version`"
   ]
  },
  {
   "cell_type": "code",
   "execution_count": 1,
   "metadata": {},
   "outputs": [
    {
     "name": "stdout",
     "output_type": "stream",
     "text": [
      "Hello World\n"
     ]
    }
   ],
   "source": [
    "print(\"Hello World\")"
   ]
  },
  {
   "cell_type": "markdown",
   "metadata": {},
   "source": [
    "### Let's Start"
   ]
  },
  {
   "cell_type": "code",
   "execution_count": 2,
   "metadata": {},
   "outputs": [
    {
     "name": "stdout",
     "output_type": "stream",
     "text": [
      "Hello World\n"
     ]
    }
   ],
   "source": [
    "print(\"Hello World\")"
   ]
  },
  {
   "cell_type": "markdown",
   "metadata": {},
   "source": [
    "**Commenting in python**        \n",
    "-- single line comment #  \n",
    "-- multi line comments\n",
    "\n",
    "\"\"\"\n",
    "This is a multi-line comment -- Docstrings `Shift` + `\"` `\"` `\"`\n",
    "\"\"\""
   ]
  },
  {
   "cell_type": "markdown",
   "metadata": {},
   "source": [
    "### **Output**  \n",
    "Python Print Statement  \n",
    "- Single quotes  \n",
    "- Double quotes"
   ]
  },
  {
   "cell_type": "code",
   "execution_count": 8,
   "metadata": {},
   "outputs": [
    {
     "name": "stdout",
     "output_type": "stream",
     "text": [
      "Hello Welcome to 30 day's python series\n"
     ]
    }
   ],
   "source": [
    "print('''Hello Welcome to 30 day's python series''')"
   ]
  },
  {
   "cell_type": "code",
   "execution_count": 7,
   "metadata": {},
   "outputs": [
    {
     "name": "stdout",
     "output_type": "stream",
     "text": [
      "Hello Welcome to 30 day's python series\n"
     ]
    }
   ],
   "source": [
    "print(\"Hello Welcome to 30 day\\'s python series\")"
   ]
  },
  {
   "cell_type": "code",
   "execution_count": 6,
   "metadata": {},
   "outputs": [
    {
     "name": "stdout",
     "output_type": "stream",
     "text": [
      "Hello Welcome to 30 day's python series\n"
     ]
    }
   ],
   "source": [
    "print(\"Hello Welcome to 30 day's python series\")"
   ]
  },
  {
   "cell_type": "code",
   "execution_count": null,
   "metadata": {},
   "outputs": [],
   "source": [
    "#approach 1\n",
    "print(\"Hello Welcome to 30 day's python series\")"
   ]
  },
  {
   "cell_type": "code",
   "execution_count": null,
   "metadata": {},
   "outputs": [],
   "source": [
    "#approach 2\n",
    "print('Hello Welcome to 30 day\\'s python series')"
   ]
  },
  {
   "cell_type": "code",
   "execution_count": null,
   "metadata": {},
   "outputs": [],
   "source": [
    "#approach 3\n",
    "print('''Hello Welcome to 30 day's python series''')"
   ]
  },
  {
   "cell_type": "code",
   "execution_count": 12,
   "metadata": {},
   "outputs": [
    {
     "name": "stdout",
     "output_type": "stream",
     "text": [
      "Today is Monday \n",
      "Weather:35\n"
     ]
    }
   ],
   "source": [
    "print('Today is Monday \\nWeather:35')"
   ]
  },
  {
   "cell_type": "code",
   "execution_count": 10,
   "metadata": {},
   "outputs": [
    {
     "name": "stdout",
     "output_type": "stream",
     "text": [
      "Shopping List:\n",
      "- Apples\n",
      "- Bananas\n",
      "- Oranges\n"
     ]
    }
   ],
   "source": [
    "print(\"Shopping List:\\n- Apples\\n- Bananas\\n- Oranges\")"
   ]
  },
  {
   "cell_type": "markdown",
   "metadata": {},
   "source": [
    "**New Line**\n",
    "\n",
    "Shopping List:\n",
    "- Apples\n",
    "- Bananas\n",
    "- Oranges"
   ]
  },
  {
   "cell_type": "markdown",
   "metadata": {},
   "source": [
    "**Backslash '\\\\' Exercises:**"
   ]
  },
  {
   "cell_type": "code",
   "execution_count": 14,
   "metadata": {},
   "outputs": [
    {
     "name": "stdout",
     "output_type": "stream",
     "text": [
      "C:\\Users\\YourName\\Documents\n"
     ]
    }
   ],
   "source": [
    "print('C:\\\\Users\\\\YourName\\\\Documents')"
   ]
  },
  {
   "cell_type": "code",
   "execution_count": null,
   "metadata": {},
   "outputs": [],
   "source": [
    "C:\\Users\\YourName\\Documents"
   ]
  },
  {
   "cell_type": "code",
   "execution_count": 16,
   "metadata": {},
   "outputs": [
    {
     "name": "stdout",
     "output_type": "stream",
     "text": [
      "Hello World\n",
      "Hello World\n"
     ]
    }
   ],
   "source": [
    "print('Hello World')\n",
    "print('Hello World')"
   ]
  },
  {
   "cell_type": "markdown",
   "metadata": {},
   "source": [
    "**Indentation**  \n",
    "        \n",
    "Python uses indentation to define blocks of code.  \n",
    "Each indented block should have the same level of indentation."
   ]
  },
  {
   "cell_type": "code",
   "execution_count": 18,
   "metadata": {},
   "outputs": [
    {
     "name": "stdout",
     "output_type": "stream",
     "text": [
      "Five is greater than two!\n"
     ]
    }
   ],
   "source": [
    "if 5 > 2:\n",
    "  print(\"Five is greater than two!\")"
   ]
  },
  {
   "cell_type": "markdown",
   "metadata": {},
   "source": [
    "\n",
    "\n",
    "### Section 6: Variables and Assignments  \n",
    "\n",
    "def:\n",
    "A variable is a name that stores data in a program, allowing you to reuse and manipulate the value later. It acts as a container for data, such as numbers, strings, or lists, and the value can change during program execution.\n"
   ]
  },
  {
   "cell_type": "code",
   "execution_count": 19,
   "metadata": {},
   "outputs": [
    {
     "name": "stdout",
     "output_type": "stream",
     "text": [
      "25\n"
     ]
    }
   ],
   "source": [
    "age = 25\n",
    "print(age)"
   ]
  },
  {
   "cell_type": "code",
   "execution_count": 24,
   "metadata": {},
   "outputs": [
    {
     "name": "stdout",
     "output_type": "stream",
     "text": [
      "Alice\n",
      "Nakuru\n"
     ]
    },
    {
     "data": {
      "text/plain": [
       "41"
      ]
     },
     "execution_count": 24,
     "metadata": {},
     "output_type": "execute_result"
    }
   ],
   "source": [
    "name = \"Alice\"\n",
    "print(name)\n",
    "\n",
    "city = 'Nakuru'\n",
    "print(city)\n",
    "\n",
    "temp = 41\n",
    "temp"
   ]
  },
  {
   "cell_type": "code",
   "execution_count": 26,
   "metadata": {},
   "outputs": [
    {
     "name": "stdout",
     "output_type": "stream",
     "text": [
      "(42, 'NCR', True)\n"
     ]
    }
   ],
   "source": [
    "Delhi = (42, 'NCR', True)\n",
    "print(Delhi)"
   ]
  },
  {
   "cell_type": "code",
   "execution_count": null,
   "metadata": {},
   "outputs": [],
   "source": [
    "# Integer variable\n",
    "age = 25\n",
    "\n",
    "# String variable\n",
    "name = \"Alice\"\n",
    "\n",
    "# Float variable\n",
    "temperature = 36.6\n",
    "\n",
    "# List variable\n",
    "colors = ['red', 'blue', 'green']\n",
    "\n",
    "# Valid variables\n",
    "name = \"Alice\"          # String variable\n",
    "age = 30                # Integer variable\n",
    "height = 5.7            # Float variable\n",
    "is_student = True       # Boolean variable\n",
    "\n",
    "# Invalid variable names\n",
    "2name = \"John\"          # Starts with a number (invalid)\n",
    "class = \"Data\"          # Uses a reserved keyword (invalid)"
   ]
  },
  {
   "cell_type": "markdown",
   "metadata": {},
   "source": [
    "### Rules for Defining Variables:\n",
    "1. **Must start with a letter or an underscore (_)** (e.g., `name`, `_value`).\n",
    "2. **Cannot start with a number** (e.g., `2value` is not allowed).\n",
    "3. **Can contain letters, numbers, and underscores** (e.g., `value2`, `total_sum`).\n",
    "4. **Case-sensitive** (e.g., `Age` and `age` are different variables).\n",
    "5. **Cannot use Python reserved keywords** (e.g., `for`, `if`, `while`)."
   ]
  },
  {
   "cell_type": "markdown",
   "metadata": {},
   "source": [
    "**Input In Python**  \n",
    "the input() function is used to read a line of text from the user."
   ]
  },
  {
   "cell_type": "markdown",
   "metadata": {},
   "source": [
    "### This is Day 1\n",
    "**This is Bold**"
   ]
  },
  {
   "cell_type": "code",
   "execution_count": 30,
   "metadata": {},
   "outputs": [
    {
     "name": "stdout",
     "output_type": "stream",
     "text": [
      "Mwende\n",
      "21\n"
     ]
    }
   ],
   "source": [
    "name = input(\"What's your name: \")\n",
    "\n",
    "age = input(\"What's your age: \")\n",
    "\n",
    "print(name)\n",
    "print(age)"
   ]
  },
  {
   "cell_type": "code",
   "execution_count": null,
   "metadata": {},
   "outputs": [],
   "source": [
    "user_input = input('Enter something: ')\n",
    "user_input"
   ]
  },
  {
   "cell_type": "code",
   "execution_count": 32,
   "metadata": {},
   "outputs": [
    {
     "data": {
      "text/plain": [
       "3045678"
      ]
     },
     "execution_count": 32,
     "metadata": {},
     "output_type": "execute_result"
    }
   ],
   "source": [
    "int(input(\"Enter a number: \"))"
   ]
  },
  {
   "cell_type": "code",
   "execution_count": 37,
   "metadata": {},
   "outputs": [
    {
     "name": "stdout",
     "output_type": "stream",
     "text": [
      "Please enter correct number\n"
     ]
    }
   ],
   "source": [
    "#accept only int\n",
    "try:\n",
    "    number = int(input(\"Enter a number: \"))\n",
    "except ValueError:\n",
    "    print(\"Please enter correct number\")\n"
   ]
  },
  {
   "cell_type": "code",
   "execution_count": null,
   "metadata": {},
   "outputs": [],
   "source": [
    "try:\n",
    "    number = int(input(\"Enter a number: \"))\n",
    "except ValueError:\n",
    "    print(\"That's not a valid number!\")"
   ]
  },
  {
   "cell_type": "markdown",
   "metadata": {},
   "source": [
    "### Section 9: Arithmetic Operations      \n"
   ]
  },
  {
   "cell_type": "code",
   "execution_count": 38,
   "metadata": {},
   "outputs": [
    {
     "name": "stdout",
     "output_type": "stream",
     "text": [
      "8\n"
     ]
    }
   ],
   "source": [
    "### Python supports standard arithmetic operations\n",
    "a = 5\n",
    "b = 3\n",
    "\n",
    "# Addition\n",
    "print(a + b)  # Output: 8"
   ]
  },
  {
   "cell_type": "code",
   "execution_count": 39,
   "metadata": {},
   "outputs": [
    {
     "name": "stdout",
     "output_type": "stream",
     "text": [
      "2\n"
     ]
    }
   ],
   "source": [
    "# Subtraction\n",
    "print(a - b)  # Output: 2"
   ]
  },
  {
   "cell_type": "code",
   "execution_count": 40,
   "metadata": {},
   "outputs": [
    {
     "name": "stdout",
     "output_type": "stream",
     "text": [
      "15\n"
     ]
    }
   ],
   "source": [
    "# Multiplication\n",
    "print(a * b)  # Output: 15"
   ]
  },
  {
   "cell_type": "code",
   "execution_count": 41,
   "metadata": {},
   "outputs": [
    {
     "name": "stdout",
     "output_type": "stream",
     "text": [
      "1.6666666666666667\n"
     ]
    }
   ],
   "source": [
    "# Division\n",
    "print(a / b)  # Output: 1.666..."
   ]
  },
  {
   "cell_type": "code",
   "execution_count": 42,
   "metadata": {},
   "outputs": [
    {
     "name": "stdout",
     "output_type": "stream",
     "text": [
      "1\n"
     ]
    }
   ],
   "source": [
    "# Floor Division\n",
    "print(a // b)  # Output: 1 (integer division)"
   ]
  },
  {
   "cell_type": "code",
   "execution_count": 43,
   "metadata": {},
   "outputs": [
    {
     "name": "stdout",
     "output_type": "stream",
     "text": [
      "2\n"
     ]
    }
   ],
   "source": [
    "# Modulus (remainder)\n",
    "print(a % b)  # Output: 2"
   ]
  },
  {
   "cell_type": "code",
   "execution_count": 44,
   "metadata": {},
   "outputs": [
    {
     "name": "stdout",
     "output_type": "stream",
     "text": [
      "125\n"
     ]
    }
   ],
   "source": [
    "# Exponentiation\n",
    "print(a ** b)  # Output: 125"
   ]
  },
  {
   "cell_type": "markdown",
   "metadata": {},
   "source": [
    "**String Formating in Python**\n",
    "- 1. Using f-strings (Python 3.6+)\n",
    "- 2. Using the str.format() Method\n",
    "- 3. Using % Formatting"
   ]
  },
  {
   "cell_type": "code",
   "execution_count": 48,
   "metadata": {},
   "outputs": [
    {
     "name": "stdout",
     "output_type": "stream",
     "text": [
      "city: Delhi weather: 42\n"
     ]
    }
   ],
   "source": [
    "city = 'Delhi'\n",
    "weather = 42\n",
    "#city: Delhi weather: 42\n",
    "\n",
    "print(f\"city: {city} weather: {weather}\")"
   ]
  },
  {
   "cell_type": "code",
   "execution_count": 52,
   "metadata": {},
   "outputs": [
    {
     "name": "stdout",
     "output_type": "stream",
     "text": [
      "Name: Alice, Age: 30\n"
     ]
    }
   ],
   "source": [
    "#1. Using f-strings (Python 3.6+)\n",
    "name = \"Alice\"\n",
    "age = 30\n",
    "print(\"Name: %s, Age: %d\" %(name, age))"
   ]
  },
  {
   "cell_type": "code",
   "execution_count": null,
   "metadata": {},
   "outputs": [],
   "source": [
    "#2. Using the str.format() Method\n",
    "name = \"Bob\"\n",
    "age = 25\n",
    "print(\"Name: {}, Age: {}\".format(name, age))"
   ]
  },
  {
   "cell_type": "code",
   "execution_count": null,
   "metadata": {},
   "outputs": [],
   "source": [
    "#3. Using % Formatting\n",
    "name = \"Carol\"\n",
    "age = 22\n",
    "print(\"Name: %s, Age: %d\" % (name, age))\n"
   ]
  },
  {
   "cell_type": "markdown",
   "metadata": {},
   "source": [
    "**String len() Function Exercises:**"
   ]
  },
  {
   "cell_type": "code",
   "execution_count": 53,
   "metadata": {},
   "outputs": [
    {
     "data": {
      "text/plain": [
       "19"
      ]
     },
     "execution_count": 53,
     "metadata": {},
     "output_type": "execute_result"
    }
   ],
   "source": [
    "Nakuru = 'has many flamingoes'\n",
    "len(Nakuru)"
   ]
  },
  {
   "cell_type": "code",
   "execution_count": 54,
   "metadata": {},
   "outputs": [
    {
     "data": {
      "text/plain": [
       "7"
      ]
     },
     "execution_count": 54,
     "metadata": {},
     "output_type": "execute_result"
    }
   ],
   "source": [
    "city = 'Nairobi'\n",
    "len(city)"
   ]
  },
  {
   "cell_type": "code",
   "execution_count": 55,
   "metadata": {},
   "outputs": [
    {
     "data": {
      "text/plain": [
       "17"
      ]
     },
     "execution_count": 55,
     "metadata": {},
     "output_type": "execute_result"
    }
   ],
   "source": [
    "len(\"My name is Mwende\")"
   ]
  },
  {
   "cell_type": "code",
   "execution_count": 56,
   "metadata": {},
   "outputs": [
    {
     "data": {
      "text/plain": [
       "5"
      ]
     },
     "execution_count": 56,
     "metadata": {},
     "output_type": "execute_result"
    }
   ],
   "source": [
    "len('     ')"
   ]
  },
  {
   "cell_type": "code",
   "execution_count": 60,
   "metadata": {},
   "outputs": [
    {
     "name": "stdout",
     "output_type": "stream",
     "text": [
      "The length of the email : 22 and the email is : mwendekiindu@gmail.com\n"
     ]
    }
   ],
   "source": [
    "#Write a function that takes email ids from users and print the length of the email\n",
    "\n",
    "email = input(\"Please input your email address :\")\n",
    "email\n",
    "email_len = len(email)\n",
    "print(f\"The length of the email : {email_len} and the email is : {email}\")"
   ]
  },
  {
   "cell_type": "code",
   "execution_count": null,
   "metadata": {},
   "outputs": [],
   "source": [
    "user_input = input(\"Enter a string: \")\n",
    "print(f\"The length of the string is: {len(user_input)}\")"
   ]
  },
  {
   "cell_type": "markdown",
   "metadata": {},
   "source": [
    "Thank you!\n",
    "Please subscribe and Support us -- [Subscribe Now](https://www.youtube.com/@zero_analyst)"
   ]
  }
 ],
 "metadata": {
  "kernelspec": {
   "display_name": "my_venv",
   "language": "python",
   "name": "python3"
  },
  "language_info": {
   "codemirror_mode": {
    "name": "ipython",
    "version": 3
   },
   "file_extension": ".py",
   "mimetype": "text/x-python",
   "name": "python",
   "nbconvert_exporter": "python",
   "pygments_lexer": "ipython3",
   "version": "3.12.6"
  }
 },
 "nbformat": 4,
 "nbformat_minor": 2
}
