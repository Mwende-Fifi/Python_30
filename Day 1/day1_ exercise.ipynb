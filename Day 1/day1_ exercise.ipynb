{
 "cells": [
  {
   "cell_type": "markdown",
   "metadata": {},
   "source": [
    "#### Day 1 Exercise"
   ]
  },
  {
   "cell_type": "markdown",
   "metadata": {},
   "source": [
    "**1. Print Statement**  \n",
    "Fix the above statement to print the sentence properly without any errors."
   ]
  },
  {
   "cell_type": "code",
   "execution_count": 2,
   "metadata": {},
   "outputs": [
    {
     "name": "stdout",
     "output_type": "stream",
     "text": [
      "\"Python\" is a \"great\" language\n"
     ]
    }
   ],
   "source": [
    "#Problem 1\n",
    "print('''\"Python\" is a \"great\" language''')"
   ]
  },
  {
   "cell_type": "code",
   "execution_count": 4,
   "metadata": {},
   "outputs": [
    {
     "name": "stdout",
     "output_type": "stream",
     "text": [
      "It's a wonderful day to learn Python!\n"
     ]
    }
   ],
   "source": [
    "#Problem 2\n",
    "print(\"It\\'s a wonderful day to learn Python!\")"
   ]
  },
  {
   "cell_type": "code",
   "execution_count": 5,
   "metadata": {},
   "outputs": [
    {
     "name": "stdout",
     "output_type": "stream",
     "text": [
      "\"He said, \"Python is easy to learn.\"\"\n"
     ]
    }
   ],
   "source": [
    "#Problem 3\n",
    "print('''\"He said, \"Python is easy to learn.\"\"''')"
   ]
  },
  {
   "cell_type": "code",
   "execution_count": 13,
   "metadata": {},
   "outputs": [
    {
     "name": "stdout",
     "output_type": "stream",
     "text": [
      "Let's learn to \"code\" and have fun\n"
     ]
    }
   ],
   "source": [
    "#Problem 4\n",
    "print('''Let's learn to \"code\" and have fun''')"
   ]
  },
  {
   "cell_type": "markdown",
   "metadata": {},
   "source": [
    "**2. Print Your Name**  "
   ]
  },
  {
   "cell_type": "code",
   "execution_count": 14,
   "metadata": {},
   "outputs": [
    {
     "name": "stdout",
     "output_type": "stream",
     "text": [
      "My name is Mwende\n"
     ]
    }
   ],
   "source": [
    "print(\"My name is Mwende\")"
   ]
  },
  {
   "cell_type": "markdown",
   "metadata": {},
   "source": [
    "3. Basic Input  \n",
    "Write a program that asks for the user's age and prints a message saying \"You are X years old\" (replace X with the input)."
   ]
  },
  {
   "cell_type": "code",
   "execution_count": 16,
   "metadata": {},
   "outputs": [
    {
     "name": "stdout",
     "output_type": "stream",
     "text": [
      "You are 21 years old\n"
     ]
    }
   ],
   "source": [
    "age = input(\"Please enter your age: \")\n",
    "print(f\"You are {age} years old\")"
   ]
  },
  {
   "cell_type": "markdown",
   "metadata": {},
   "source": [
    "4. Simple Arithmetic Operations  \n",
    "Write a program that takes two numbers as input and prints their sum, difference, multiplication, and division."
   ]
  },
  {
   "cell_type": "code",
   "execution_count": 17,
   "metadata": {},
   "outputs": [
    {
     "name": "stdout",
     "output_type": "stream",
     "text": [
      "The sum of a and b is 28\n"
     ]
    }
   ],
   "source": [
    "## Addition\n",
    "a = 23\n",
    "b = 5\n",
    "print(f\"The sum of a and b is {a+b}\")"
   ]
  },
  {
   "cell_type": "code",
   "execution_count": 18,
   "metadata": {},
   "outputs": [
    {
     "name": "stdout",
     "output_type": "stream",
     "text": [
      "The difference of a and b is 18\n"
     ]
    }
   ],
   "source": [
    "## Subtraction\n",
    "a = 23\n",
    "b = 5\n",
    "print(f\"The difference of a and b is {a-b}\")"
   ]
  },
  {
   "cell_type": "code",
   "execution_count": 19,
   "metadata": {},
   "outputs": [
    {
     "name": "stdout",
     "output_type": "stream",
     "text": [
      "The product of a and b is 115\n"
     ]
    }
   ],
   "source": [
    "## Multiplication\n",
    "a = 23\n",
    "b = 5\n",
    "print(f\"The product of a and b is {a*b}\")"
   ]
  },
  {
   "cell_type": "code",
   "execution_count": 20,
   "metadata": {},
   "outputs": [
    {
     "name": "stdout",
     "output_type": "stream",
     "text": [
      "The quotient of a and b is 4.6\n"
     ]
    }
   ],
   "source": [
    "## Division\n",
    "a = 23\n",
    "b = 5\n",
    "print(f\"The quotient of a and b is {a/b}\")"
   ]
  },
  {
   "cell_type": "markdown",
   "metadata": {},
   "source": [
    "5. Concatenation of Strings  \n",
    "Write a program that takes two strings as input and prints them concatenated."
   ]
  },
  {
   "cell_type": "markdown",
   "metadata": {},
   "source": [
    "### Concatenation of Strings"
   ]
  },
  {
   "cell_type": "code",
   "execution_count": 26,
   "metadata": {},
   "outputs": [
    {
     "name": "stdout",
     "output_type": "stream",
     "text": [
      "My name is Faith Nasama.\n",
      "I am 18 years old\n"
     ]
    }
   ],
   "source": [
    "name = \"My name is Faith Nasama\"\n",
    "age = \"\\nI am 18 years old\"\n",
    "print(f\"{name}.{age}\")"
   ]
  },
  {
   "cell_type": "code",
   "execution_count": 25,
   "metadata": {},
   "outputs": [
    {
     "name": "stdout",
     "output_type": "stream",
     "text": [
      "My name is Faith Nasama\n",
      "I am 18 years old\n"
     ]
    }
   ],
   "source": [
    "name = \"My name is Faith Nasama\"\n",
    "age = \"\\nI am 18 years old\"\n",
    "print(name+age)"
   ]
  },
  {
   "cell_type": "markdown",
   "metadata": {},
   "source": [
    "6. String Length  \n",
    "Write a program that takes a string and prints its length."
   ]
  },
  {
   "cell_type": "code",
   "execution_count": 27,
   "metadata": {},
   "outputs": [
    {
     "name": "stdout",
     "output_type": "stream",
     "text": [
      "The length of the name is 13 and the name is Mwende Kiindu\n"
     ]
    }
   ],
   "source": [
    "name = input(\"Please input your name: \")\n",
    "name_len = len(name)\n",
    "print(f\"The length of the name is {name_len} and the name is {name}\")"
   ]
  },
  {
   "cell_type": "markdown",
   "metadata": {},
   "source": [
    "7. Escape Characters  \n",
    "Write a program to print the following on the console:  \n",
    "Hello,  \n",
    "\"Python\""
   ]
  },
  {
   "cell_type": "code",
   "execution_count": 35,
   "metadata": {},
   "outputs": [
    {
     "name": "stdout",
     "output_type": "stream",
     "text": [
      "Hello,\n",
      "\"Python\"\n"
     ]
    }
   ],
   "source": [
    "print('''Hello,\\n\"Python\"''')"
   ]
  },
  {
   "cell_type": "markdown",
   "metadata": {},
   "source": [
    "8. Fix the below code and print outcome like below  \n",
    "My Name is 'X'  \n",
    "My Age is 27"
   ]
  },
  {
   "cell_type": "code",
   "execution_count": 38,
   "metadata": {},
   "outputs": [
    {
     "name": "stdout",
     "output_type": "stream",
     "text": [
      "My name is 'X' \n",
      "My Age is 27\n"
     ]
    }
   ],
   "source": [
    "print(\"My name is 'X' \\nMy Age is 27\")"
   ]
  },
  {
   "cell_type": "markdown",
   "metadata": {},
   "source": [
    "9. **Backslash Exercise**  \n",
    "Write a program that prints the following using escape sequences:  \n",
    "Path: C:\\Users\\YourName"
   ]
  },
  {
   "cell_type": "code",
   "execution_count": 39,
   "metadata": {},
   "outputs": [
    {
     "name": "stdout",
     "output_type": "stream",
     "text": [
      "Path: C:\\Users\\YourName\n"
     ]
    }
   ],
   "source": [
    "print('Path: C:\\\\Users\\\\YourName')"
   ]
  },
  {
   "cell_type": "markdown",
   "metadata": {},
   "source": [
    "10. Basic String Formatting  \n",
    "Write a program that takes a name and age as input and prints a message saying \"Your name is X and you are Y years old\"."
   ]
  },
  {
   "cell_type": "code",
   "execution_count": 41,
   "metadata": {},
   "outputs": [
    {
     "name": "stdout",
     "output_type": "stream",
     "text": [
      "Your name is Kiindu and you are 20 years old\n"
     ]
    }
   ],
   "source": [
    "name = input(\"Please input your name: \")\n",
    "age = input(\"What's your age?: \")\n",
    "print(f\"Your name is {name} and you are {age} years old\")"
   ]
  }
 ],
 "metadata": {
  "kernelspec": {
   "display_name": "my_venv",
   "language": "python",
   "name": "python3"
  },
  "language_info": {
   "codemirror_mode": {
    "name": "ipython",
    "version": 3
   },
   "file_extension": ".py",
   "mimetype": "text/x-python",
   "name": "python",
   "nbconvert_exporter": "python",
   "pygments_lexer": "ipython3",
   "version": "3.12.6"
  }
 },
 "nbformat": 4,
 "nbformat_minor": 2
}
