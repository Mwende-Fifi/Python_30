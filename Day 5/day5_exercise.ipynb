{
 "cells": [
  {
   "cell_type": "markdown",
   "metadata": {},
   "source": [
    "---\n",
    "\n",
    "### **Exercise 1: Dictionary Creation**\n",
    "\n",
    "Create a dictionary called `student_info` that contains the following key-value pairs:\n",
    "\n",
    "- Name: \"John Doe\"\n",
    "- Age: 20\n",
    "- Major: \"Computer Science\"\n",
    "- GPA: 3.8\n",
    "\n",
    "**Task**: Print the dictionary.\n",
    "\n",
    "---\n",
    "\n",
    "### **Exercise 2: Accessing Dictionary Values**\n",
    "\n",
    "Using the `student_info` dictionary from Exercise 1, access and print:\n",
    "\n",
    "- The student's name.\n",
    "- The student's GPA.\n",
    "\n",
    "---\n",
    "\n",
    "### **Exercise 3: Adding a Key-Value Pair**\n",
    "\n",
    "Add a new key-value pair to the `student_info` dictionary:\n",
    "\n",
    "- \"Graduation Year\": 2025\n",
    "\n",
    "**Task**: Print the updated dictionary.\n",
    "\n",
    "---\n",
    "\n",
    "### **Exercise 4: Modifying a Value**\n",
    "\n",
    "Change the student's GPA in `student_info` to 3.9.\n",
    "\n",
    "**Task**: Print the dictionary after modification.\n",
    "\n",
    "---\n",
    "\n",
    "### **Exercise 5: Using the `get()` Method**\n",
    "\n",
    "Using the `get()` method, check if the dictionary `student_info` contains the key \"Minor\". If the key is not present, return \"Not specified\".\n",
    "\n",
    "---\n",
    "\n",
    "### **Exercise 6: Removing a Key-Value Pair**\n",
    "\n",
    "Remove the \"Major\" key from the `student_info` dictionary using the `pop()` method.\n",
    "\n",
    "**Task**: Print the dictionary after the key is removed.\n",
    "\n",
    "---\n",
    "\n",
    "### **Exercise 7: Using `keys()` and `values()` Methods**\n",
    "\n",
    "Using the `student_info` dictionary, print:\n",
    "\n",
    "- All the keys in the dictionary.\n",
    "- All the values in the dictionary.\n",
    "\n",
    "---\n",
    "\n",
    "### **Exercise 8: Dictionary of Lists**\n",
    "\n",
    "Create a dictionary called `class_grades` where each student has a list of their grades. For example:\n",
    "\n",
    "```python\n",
    "class_grades = {\n",
    "    \"Alice\": [85, 90, 88],\n",
    "    \"Bob\": [92, 88, 79],\n",
    "    \"Charlie\": [88, 76, 85]\n",
    "}\n",
    "```\n",
    "\n",
    "**Task**: Print Alice's grades.\n",
    "\n",
    "---\n",
    "\n",
    "### **Exercise 9: Nested Dictionary**\n",
    "\n",
    "Create a dictionary called `library` where each book has information like title, author, and year. Example:\n",
    "\n",
    "```python\n",
    "library = {\n",
    "    \"Book1\": {\"title\": \"To Kill a Mockingbird\", \"author\": \"Harper Lee\", \"year\": 1960},\n",
    "    \"Book2\": {\"title\": \"1984\", \"author\": \"George Orwell\", \"year\": 1949}\n",
    "}\n",
    "```\n",
    "\n",
    "**Task**: Print the title of \"Book2\".\n",
    "\n",
    "---\n",
    "\n",
    "### **Exercise 10: Merging Dictionaries**\n",
    "\n",
    "You have two dictionaries:\n",
    "\n",
    "```python\n",
    "dict1 = {\"a\": 1, \"b\": 2}\n",
    "dict2 = {\"c\": 3, \"d\": 4}\n",
    "```\n",
    "\n",
    "**Task**: Merge `dict2` into `dict1` using the `update()` method and print the merged dictionary.\n",
    "\n",
    "---"
   ]
  },
  {
   "cell_type": "markdown",
   "metadata": {},
   "source": [
    "### **Exercise 1: Dictionary Creation**\n",
    "\n",
    "Create a dictionary called `student_info` that contains the following key-value pairs:\n",
    "\n",
    "- Name: \"John Doe\"\n",
    "- Age: 20\n",
    "- Major: \"Computer Science\"\n",
    "- GPA: 3.8\n",
    "\n",
    "**Task**: Print the dictionary.\n"
   ]
  },
  {
   "cell_type": "code",
   "execution_count": 1,
   "metadata": {},
   "outputs": [
    {
     "data": {
      "text/plain": [
       "{'Name': 'John Doe', 'Age': 20, 'Major': 'Computer Science', 'GPA': 3.8}"
      ]
     },
     "execution_count": 1,
     "metadata": {},
     "output_type": "execute_result"
    }
   ],
   "source": [
    "student_info =  {\n",
    "    \"Name\" : \"John Doe\",\n",
    "    \"Age\" : 20,\n",
    "    \"Major\" : \"Computer Science\",\n",
    "    \"GPA\" : 3.8\n",
    "}\n",
    "student_info"
   ]
  },
  {
   "cell_type": "markdown",
   "metadata": {},
   "source": [
    "### **Exercise 2: Accessing Dictionary Values**\n",
    "\n",
    "Using the `student_info` dictionary from Exercise 1, access and print:\n",
    "\n",
    "- The student's name.\n",
    "- The student's GPA.\n"
   ]
  },
  {
   "cell_type": "code",
   "execution_count": 5,
   "metadata": {},
   "outputs": [
    {
     "data": {
      "text/plain": [
       "3.8"
      ]
     },
     "execution_count": 5,
     "metadata": {},
     "output_type": "execute_result"
    }
   ],
   "source": [
    "# The student's name\n",
    "student_info[\"Name\"]\n",
    "student_info.get(\"Name\")\n",
    "# The student's GPA\n",
    "student_info[\"GPA\"]\n",
    "student_info.get(\"GPA\")"
   ]
  },
  {
   "cell_type": "markdown",
   "metadata": {},
   "source": [
    "### **Exercise 3: Adding a Key-Value Pair**\n",
    "\n",
    "Add a new key-value pair to the `student_info` dictionary:\n",
    "\n",
    "- \"Graduation Year\": 2025\n",
    "\n",
    "**Task**: Print the updated dictionary.\n"
   ]
  },
  {
   "cell_type": "code",
   "execution_count": 6,
   "metadata": {},
   "outputs": [
    {
     "data": {
      "text/plain": [
       "{'Name': 'John Doe',\n",
       " 'Age': 20,\n",
       " 'Major': 'Computer Science',\n",
       " 'GPA': 3.8,\n",
       " 'Graduation Year': 2025}"
      ]
     },
     "execution_count": 6,
     "metadata": {},
     "output_type": "execute_result"
    }
   ],
   "source": [
    "student_info[\"Graduation Year\"] = 2025\n",
    "student_info"
   ]
  },
  {
   "cell_type": "markdown",
   "metadata": {},
   "source": [
    "### **Exercise 4: Modifying a Value**\n",
    "\n",
    "Change the student's GPA in `student_info` to 3.9.\n",
    "\n",
    "**Task**: Print the dictionary after modification"
   ]
  },
  {
   "cell_type": "code",
   "execution_count": 8,
   "metadata": {},
   "outputs": [
    {
     "data": {
      "text/plain": [
       "{'Name': 'John Doe',\n",
       " 'Age': 20,\n",
       " 'Major': 'Computer Science',\n",
       " 'GPA': 3.9,\n",
       " 'Graduation Year': 2025}"
      ]
     },
     "execution_count": 8,
     "metadata": {},
     "output_type": "execute_result"
    }
   ],
   "source": [
    "student_info[\"GPA\"] = 3.9\n",
    "student_info"
   ]
  },
  {
   "cell_type": "markdown",
   "metadata": {},
   "source": [
    "### **Exercise 5: Using the `get()` Method**\n",
    "\n",
    "Using the `get()` method, check if the dictionary `student_info` contains the key \"Minor\". If the key is not present, return \"Not specified\"."
   ]
  },
  {
   "cell_type": "code",
   "execution_count": 12,
   "metadata": {},
   "outputs": [
    {
     "data": {
      "text/plain": [
       "'Not specified'"
      ]
     },
     "execution_count": 12,
     "metadata": {},
     "output_type": "execute_result"
    }
   ],
   "source": [
    "minor = student_info.get(\"Minor\", \"Not specified\") \n",
    "minor"
   ]
  },
  {
   "cell_type": "markdown",
   "metadata": {},
   "source": [
    "### **Exercise 6: Removing a Key-Value Pair**\n",
    "\n",
    "Remove the \"Major\" key from the `student_info` dictionary using the `pop()` method.\n",
    "\n",
    "**Task**: Print the dictionary after the key is removed.\n"
   ]
  },
  {
   "cell_type": "code",
   "execution_count": 13,
   "metadata": {},
   "outputs": [
    {
     "data": {
      "text/plain": [
       "{'Name': 'John Doe', 'Age': 20, 'GPA': 3.9, 'Graduation Year': 2025}"
      ]
     },
     "execution_count": 13,
     "metadata": {},
     "output_type": "execute_result"
    }
   ],
   "source": [
    "student_info.pop(\"Major\")\n",
    "student_info"
   ]
  },
  {
   "cell_type": "markdown",
   "metadata": {},
   "source": [
    "### **Exercise 7: Using `keys()` and `values()` Methods**\n",
    "\n",
    "Using the `student_info` dictionary, print:\n",
    "\n",
    "- All the keys in the dictionary.\n",
    "- All the values in the dictionary."
   ]
  },
  {
   "cell_type": "code",
   "execution_count": 15,
   "metadata": {},
   "outputs": [
    {
     "data": {
      "text/plain": [
       "dict_values(['John Doe', 20, 3.9, 2025])"
      ]
     },
     "execution_count": 15,
     "metadata": {},
     "output_type": "execute_result"
    }
   ],
   "source": [
    "# All the keys in the dictionary\n",
    "student_info.keys()\n",
    "\n",
    "# All the values in the dictionary\n",
    "student_info.values()"
   ]
  },
  {
   "cell_type": "markdown",
   "metadata": {},
   "source": [
    "### **Exercise 8: Dictionary of Lists**\n",
    "\n",
    "Create a dictionary called `class_grades` where each student has a list of their grades. For example:\n",
    "\n",
    "```python\n",
    "class_grades = {\n",
    "    \"Alice\": [85, 90, 88],\n",
    "    \"Bob\": [92, 88, 79],\n",
    "    \"Charlie\": [88, 76, 85]\n",
    "}\n",
    "```\n",
    "\n",
    "**Task**: Print Alice's grades."
   ]
  },
  {
   "cell_type": "code",
   "execution_count": 16,
   "metadata": {},
   "outputs": [
    {
     "data": {
      "text/plain": [
       "[85, 90, 88]"
      ]
     },
     "execution_count": 16,
     "metadata": {},
     "output_type": "execute_result"
    }
   ],
   "source": [
    "class_grades = {\n",
    "    \"Alice\" : [85, 90, 88],\n",
    "    \"Bob\" : [92, 88, 79],\n",
    "    \"Charlie\" : [88, 76, 85]\n",
    "}\n",
    "class_grades[\"Alice\"]"
   ]
  },
  {
   "cell_type": "markdown",
   "metadata": {},
   "source": [
    "### **Exercise 9: Nested Dictionary**\n",
    "\n",
    "Create a dictionary called `library` where each book has information like title, author, and year. Example:\n",
    "\n",
    "```python\n",
    "library = {\n",
    "    \"Book1\": {\"title\": \"To Kill a Mockingbird\", \"author\": \"Harper Lee\", \"year\": 1960},\n",
    "    \"Book2\": {\"title\": \"1984\", \"author\": \"George Orwell\", \"year\": 1949}\n",
    "}\n",
    "```\n",
    "\n",
    "**Task**: Print the title of \"Book2\"."
   ]
  },
  {
   "cell_type": "code",
   "execution_count": 17,
   "metadata": {},
   "outputs": [
    {
     "data": {
      "text/plain": [
       "'1984'"
      ]
     },
     "execution_count": 17,
     "metadata": {},
     "output_type": "execute_result"
    }
   ],
   "source": [
    "library = {\n",
    "    \"Book1\" : {\n",
    "        \"title\" : \"To Kill a Mockingbird\",\n",
    "        \"author\" : \"Harper Lee\",\n",
    "        \"year\" : 1960,\n",
    "    },\n",
    "    \"Book2\" : {\n",
    "        \"title\" : \"1984\",\n",
    "        \"author\" : \"George Orwell\",\n",
    "        \"year\" : 1949\n",
    "    }\n",
    "}\n",
    "library[\"Book2\"][\"title\"]"
   ]
  },
  {
   "cell_type": "markdown",
   "metadata": {},
   "source": [
    "### **Exercise 10: Merging Dictionaries**\n",
    "\n",
    "You have two dictionaries:\n",
    "\n",
    "```python\n",
    "dict1 = {\"a\": 1, \"b\": 2}\n",
    "dict2 = {\"c\": 3, \"d\": 4}\n",
    "```\n",
    "\n",
    "**Task**: Merge `dict2` into `dict1` using the `update()` method and print the merged dictionary"
   ]
  },
  {
   "cell_type": "code",
   "execution_count": 19,
   "metadata": {},
   "outputs": [
    {
     "data": {
      "text/plain": [
       "{'a': 1, 'b': 2, 'c': 3, 'd': 4}"
      ]
     },
     "execution_count": 19,
     "metadata": {},
     "output_type": "execute_result"
    }
   ],
   "source": [
    "dict1 = {\"a\" : 1, \"b\" : 2}\n",
    "dict2 = {\"c\" : 3, \"d\" : 4}\n",
    "\n",
    "dict1.update(dict2)\n",
    "dict1"
   ]
  }
 ],
 "metadata": {
  "kernelspec": {
   "display_name": "my_venv",
   "language": "python",
   "name": "python3"
  },
  "language_info": {
   "codemirror_mode": {
    "name": "ipython",
    "version": 3
   },
   "file_extension": ".py",
   "mimetype": "text/x-python",
   "name": "python",
   "nbconvert_exporter": "python",
   "pygments_lexer": "ipython3",
   "version": "3.12.6"
  }
 },
 "nbformat": 4,
 "nbformat_minor": 2
}
