{
 "cells": [
  {
   "cell_type": "code",
   "execution_count": 1,
   "metadata": {},
   "outputs": [],
   "source": [
    "# testing in notebook\n",
    "from main import data_cleaning_master"
   ]
  },
  {
   "cell_type": "code",
   "execution_count": 3,
   "metadata": {},
   "outputs": [
    {
     "name": "stdout",
     "output_type": "stream",
     "text": [
      "Thank you for giving the details\n",
      "Please wait for 4 seconds! Checking file path\n",
      "Dataset is an excel file\n",
      "Please wait for 2 seconds! Checking for total number of columns and rows\n",
      "Dataset contains total rows: 29 \n",
      "Total columns: 9\n",
      "Please wait for 4 seconds! Checking for total duplicates\n",
      "Datasets has total duplicates records: 10\n",
      "Please wait for 1 seconds! Saving total duplicate rows\n",
      "Please wait for 2 seconds! Checking for missing values\n",
      "Dataset has total missing value: 14\n",
      "Dataset contain missing value by column: \n",
      " invoice_id         0\n",
      "branch             4\n",
      "city               0\n",
      "age               10\n",
      "gender             0\n",
      "total              0\n",
      "date               0\n",
      "payment_method     0\n",
      "rating             0\n",
      "dtype: int64\n",
      "Please wait for 4 seconds! Cleaning datasets\n"
     ]
    },
    {
     "name": "stderr",
     "output_type": "stream",
     "text": [
      "c:\\Users\\Administrator\\Documents\\Vscode\\Day 19\\main.py:114: SettingWithCopyWarning: \n",
      "A value is trying to be set on a copy of a slice from a DataFrame.\n",
      "Try using .loc[row_indexer,col_indexer] = value instead\n",
      "\n",
      "See the caveats in the documentation: https://pandas.pydata.org/pandas-docs/stable/user_guide/indexing.html#returning-a-view-versus-a-copy\n",
      "  df[col] = df[col].fillna(df[col].mean())\n",
      "c:\\Users\\Administrator\\Documents\\Vscode\\Day 19\\main.py:117: SettingWithCopyWarning: \n",
      "A value is trying to be set on a copy of a slice from a DataFrame\n",
      "\n",
      "See the caveats in the documentation: https://pandas.pydata.org/pandas-docs/stable/user_guide/indexing.html#returning-a-view-versus-a-copy\n",
      "  df.dropna(subset=col, inplace=True)\n",
      "c:\\Users\\Administrator\\Documents\\Vscode\\Day 19\\main.py:117: SettingWithCopyWarning: \n",
      "A value is trying to be set on a copy of a slice from a DataFrame\n",
      "\n",
      "See the caveats in the documentation: https://pandas.pydata.org/pandas-docs/stable/user_guide/indexing.html#returning-a-view-versus-a-copy\n",
      "  df.dropna(subset=col, inplace=True)\n",
      "c:\\Users\\Administrator\\Documents\\Vscode\\Day 19\\main.py:114: SettingWithCopyWarning: \n",
      "A value is trying to be set on a copy of a slice from a DataFrame.\n",
      "Try using .loc[row_indexer,col_indexer] = value instead\n",
      "\n",
      "See the caveats in the documentation: https://pandas.pydata.org/pandas-docs/stable/user_guide/indexing.html#returning-a-view-versus-a-copy\n",
      "  df[col] = df[col].fillna(df[col].mean())\n",
      "c:\\Users\\Administrator\\Documents\\Vscode\\Day 19\\main.py:117: SettingWithCopyWarning: \n",
      "A value is trying to be set on a copy of a slice from a DataFrame\n",
      "\n",
      "See the caveats in the documentation: https://pandas.pydata.org/pandas-docs/stable/user_guide/indexing.html#returning-a-view-versus-a-copy\n",
      "  df.dropna(subset=col, inplace=True)\n",
      "c:\\Users\\Administrator\\Documents\\Vscode\\Day 19\\main.py:117: SettingWithCopyWarning: \n",
      "A value is trying to be set on a copy of a slice from a DataFrame\n",
      "\n",
      "See the caveats in the documentation: https://pandas.pydata.org/pandas-docs/stable/user_guide/indexing.html#returning-a-view-versus-a-copy\n",
      "  df.dropna(subset=col, inplace=True)\n",
      "c:\\Users\\Administrator\\Documents\\Vscode\\Day 19\\main.py:117: SettingWithCopyWarning: \n",
      "A value is trying to be set on a copy of a slice from a DataFrame\n",
      "\n",
      "See the caveats in the documentation: https://pandas.pydata.org/pandas-docs/stable/user_guide/indexing.html#returning-a-view-versus-a-copy\n",
      "  df.dropna(subset=col, inplace=True)\n",
      "c:\\Users\\Administrator\\Documents\\Vscode\\Day 19\\main.py:117: SettingWithCopyWarning: \n",
      "A value is trying to be set on a copy of a slice from a DataFrame\n",
      "\n",
      "See the caveats in the documentation: https://pandas.pydata.org/pandas-docs/stable/user_guide/indexing.html#returning-a-view-versus-a-copy\n",
      "  df.dropna(subset=col, inplace=True)\n",
      "c:\\Users\\Administrator\\Documents\\Vscode\\Day 19\\main.py:114: SettingWithCopyWarning: \n",
      "A value is trying to be set on a copy of a slice from a DataFrame.\n",
      "Try using .loc[row_indexer,col_indexer] = value instead\n",
      "\n",
      "See the caveats in the documentation: https://pandas.pydata.org/pandas-docs/stable/user_guide/indexing.html#returning-a-view-versus-a-copy\n",
      "  df[col] = df[col].fillna(df[col].mean())\n"
     ]
    },
    {
     "name": "stdout",
     "output_type": "stream",
     "text": [
      "Please wait for 2 seconds! Exporting datasets\n",
      "Congrats! Data set is cleaned! \n",
      "Number of rows: 15 Number of columns: 9\n",
      "Dataset is saved!\n"
     ]
    }
   ],
   "source": [
    "data_cleaning_master('day19_walmart.xlsx', 'walmart usa')"
   ]
  }
 ],
 "metadata": {
  "kernelspec": {
   "display_name": "my_venv",
   "language": "python",
   "name": "python3"
  },
  "language_info": {
   "codemirror_mode": {
    "name": "ipython",
    "version": 3
   },
   "file_extension": ".py",
   "mimetype": "text/x-python",
   "name": "python",
   "nbconvert_exporter": "python",
   "pygments_lexer": "ipython3",
   "version": "3.12.6"
  }
 },
 "nbformat": 4,
 "nbformat_minor": 2
}
