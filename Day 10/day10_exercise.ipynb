{
 "cells": [
  {
   "cell_type": "markdown",
   "metadata": {},
   "source": [
    "#### Exercises\n",
    "\n",
    "- Read and Display File Content\n",
    "Create a text file named `sample1.txt` with some content.\n",
    "Write a Python script to read and display the content of sample.txt.\n",
    "CSV Data Analysis\n",
    "\n",
    "- Create a CSV file named `employees1.csv` with columns: Name, Age, Department.\n",
    "Write a Python script to read this CSV file and print each employee's details.\n",
    "JSON Data Handling\n",
    "\n",
    "- Create a JSON file named `info.json` with some sample data (e.g., name, age, country).\n",
    "Write a Python script to read this JSON file and print the data in a readable format.\n",
    "\n",
    "- Exception Handling Practice\n",
    "Write a Python script to open a file in read mode. If the file does not exist, handle the exception by printing an error message."
   ]
  },
  {
   "cell_type": "markdown",
   "metadata": {},
   "source": [
    "- Read and Display File Content\n",
    "Create a text file named `sample1.txt` with some content.\n",
    "Write a Python script to read and display the content of sample.txt."
   ]
  },
  {
   "cell_type": "code",
   "execution_count": 1,
   "metadata": {},
   "outputs": [
    {
     "name": "stdout",
     "output_type": "stream",
     "text": [
      "This is sample1 text file\n"
     ]
    }
   ],
   "source": [
    "with open(\"sample1.txt\", \"r\") as file:\n",
    "    content = file.read()\n",
    "    print(content)"
   ]
  },
  {
   "cell_type": "markdown",
   "metadata": {},
   "source": [
    "CSV Data Analysis\n",
    "\n",
    "- Create a CSV file named `employees1.csv` with columns: Name, Age, Department.\n",
    "Write a Python script to read this CSV file and print each employee's details."
   ]
  },
  {
   "cell_type": "code",
   "execution_count": 2,
   "metadata": {},
   "outputs": [],
   "source": [
    "import csv\n",
    "\n",
    "with open(\"employees1.csv\", \"w\", newline=\"\") as file:\n",
    "    x = csv.writer(file)\n",
    "    # Adding header\n",
    "    x.writerow([\"Name\", \"Age\", \"Department\"])\n",
    "    x.writerow([\"Mwende\", 21, \"STACS\"])\n",
    "    x.writerow([\"Mrenje\", 20, \"PAM\"])\n",
    "    x.writerow([\"Kalii\", 22, \"SOBE\"])"
   ]
  },
  {
   "cell_type": "code",
   "execution_count": 3,
   "metadata": {},
   "outputs": [
    {
     "name": "stdout",
     "output_type": "stream",
     "text": [
      "['Name', 'Age', 'Department']\n",
      "['Mwende', '21', 'STACS']\n",
      "['Mrenje', '20', 'PAM']\n",
      "['Kalii', '22', 'SOBE']\n"
     ]
    }
   ],
   "source": [
    "with open(\"employees1.csv\", \"r\") as file:\n",
    "    reader = csv.reader(file)\n",
    "    for row in reader:\n",
    "        print(row)"
   ]
  },
  {
   "cell_type": "markdown",
   "metadata": {},
   "source": [
    "JSON Data Handling\n",
    "\n",
    "- Create a JSON file named `info.json` with some sample data (e.g., name, age, country).\n",
    "Write a Python script to read this JSON file and print the data in a readable format."
   ]
  },
  {
   "cell_type": "code",
   "execution_count": 4,
   "metadata": {},
   "outputs": [
    {
     "name": "stdout",
     "output_type": "stream",
     "text": [
      "{'name': 'Mwende', 'age': 21, 'country': 'Kenya'}\n"
     ]
    }
   ],
   "source": [
    "import json\n",
    "\n",
    "with open(\"info.json\", \"r\") as file:\n",
    "    readable_format = json.load(file)\n",
    "    print(readable_format)"
   ]
  },
  {
   "cell_type": "markdown",
   "metadata": {},
   "source": [
    "- Exception Handling Practice\n",
    "Write a Python script to open a file in read mode. If the file does not exist, handle the exception by printing an error message."
   ]
  },
  {
   "cell_type": "code",
   "execution_count": 5,
   "metadata": {},
   "outputs": [
    {
     "name": "stdout",
     "output_type": "stream",
     "text": [
      "File not found.Please enter the correct file path\n"
     ]
    }
   ],
   "source": [
    "try:\n",
    "    with open(\"test1.txt\", \"r\") as file:\n",
    "        content = file.read()\n",
    "        print(content)\n",
    "except FileNotFoundError:\n",
    "    print(\"File not found.Please enter the correct file path\")\n",
    "except IOError:\n",
    "    print(\"Please check the reading mode or the rest of the code\")\n"
   ]
  }
 ],
 "metadata": {
  "kernelspec": {
   "display_name": "my_venv",
   "language": "python",
   "name": "python3"
  },
  "language_info": {
   "codemirror_mode": {
    "name": "ipython",
    "version": 3
   },
   "file_extension": ".py",
   "mimetype": "text/x-python",
   "name": "python",
   "nbconvert_exporter": "python",
   "pygments_lexer": "ipython3",
   "version": "3.12.6"
  }
 },
 "nbformat": 4,
 "nbformat_minor": 2
}
