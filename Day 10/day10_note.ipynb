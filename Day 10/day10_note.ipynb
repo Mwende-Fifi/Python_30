{
 "cells": [
  {
   "cell_type": "markdown",
   "metadata": {},
   "source": [
    "### Welcome to day 10 of 30 days python series\n",
    "\n",
    "- File Handling\n",
    "- Reading & Writing CSV\n",
    "- Reading & Writing JSON file\n",
    "- Exception Handling"
   ]
  },
  {
   "cell_type": "markdown",
   "metadata": {},
   "source": [
    "**Reading and Writing Files**   \n",
    "In Python, you can read files using the built-in open() function. You can specify the mode in which   \n",
    "the file should be opened (e.g., read `'r'`, write `'w'`, append `'a'`)."
   ]
  },
  {
   "cell_type": "code",
   "execution_count": 8,
   "metadata": {},
   "outputs": [
    {
     "name": "stdout",
     "output_type": "stream",
     "text": [
      "Hello, world!\n",
      "\n"
     ]
    }
   ],
   "source": [
    "with open(\"example.txt\", 'r') as file:\n",
    "    content = file.readline()\n",
    "    print(content)"
   ]
  },
  {
   "cell_type": "code",
   "execution_count": 2,
   "metadata": {},
   "outputs": [
    {
     "name": "stdout",
     "output_type": "stream",
     "text": [
      "Hello, world!\n",
      "Welcome to file handling in Python\n"
     ]
    }
   ],
   "source": [
    "print(open(\"example.txt\", 'r').read())"
   ]
  },
  {
   "cell_type": "code",
   "execution_count": null,
   "metadata": {},
   "outputs": [],
   "source": [
    "open?"
   ]
  },
  {
   "cell_type": "code",
   "execution_count": null,
   "metadata": {},
   "outputs": [],
   "source": [
    "with open('example.txt', 'r') as file:\n",
    "    content = file.readline()\n",
    "    print(content)"
   ]
  },
  {
   "cell_type": "code",
   "execution_count": 13,
   "metadata": {},
   "outputs": [],
   "source": [
    "open('example.txt', 'r').close()"
   ]
  },
  {
   "cell_type": "code",
   "execution_count": null,
   "metadata": {},
   "outputs": [],
   "source": [
    "# Example: Reading a Text File\n",
    "\n",
    "# Open the file in read mode\n",
    "with open('test.txt', 'r') as file:\n",
    "    content = file.read()\n",
    "    print(content)"
   ]
  },
  {
   "cell_type": "markdown",
   "metadata": {},
   "source": [
    "-- `with` keyword ensures the file is properly closed after its suite finishes.  \n",
    "-- `file.read()` reads the entire file content."
   ]
  },
  {
   "cell_type": "markdown",
   "metadata": {},
   "source": [
    "**Writing Files**\n",
    "\n",
    "You can write to a file using the `write()` method.   \n",
    "If the file doesn’t exist, it will be created. \n",
    "If it does exist, its content will be overwritten."
   ]
  },
  {
   "cell_type": "code",
   "execution_count": 11,
   "metadata": {},
   "outputs": [
    {
     "name": "stdout",
     "output_type": "stream",
     "text": [
      "70\n"
     ]
    }
   ],
   "source": [
    "print(open(\"day10.text\", 'w').write(\"This is day 10 of Python.\\nThank you for subscribing.\\nSee you tomorrow.\"))"
   ]
  },
  {
   "cell_type": "code",
   "execution_count": 18,
   "metadata": {},
   "outputs": [
    {
     "name": "stdout",
     "output_type": "stream",
     "text": [
      "This is a test file in python\n",
      "This is day 10 of 30 days python series.\n",
      "This is line 3\n",
      "\n"
     ]
    }
   ],
   "source": [
    "print(open('/Users/Administrator/Desktop/desktop.text', 'r').read())"
   ]
  },
  {
   "cell_type": "code",
   "execution_count": 15,
   "metadata": {},
   "outputs": [],
   "source": [
    "open(\"day10.text\", \"r\").close()"
   ]
  },
  {
   "cell_type": "code",
   "execution_count": null,
   "metadata": {},
   "outputs": [],
   "source": [
    "open('day10.text', 'w').write('This is day 10 of pythong \\nThank you for subscribing \\nSee you tomorrow')"
   ]
  },
  {
   "cell_type": "code",
   "execution_count": 19,
   "metadata": {},
   "outputs": [],
   "source": [
    "open('day10.text', 'r').close()"
   ]
  },
  {
   "cell_type": "code",
   "execution_count": 21,
   "metadata": {},
   "outputs": [],
   "source": [
    "open('/Users/zara/Desktop/desktop.text', 'r').close()"
   ]
  },
  {
   "cell_type": "code",
   "execution_count": null,
   "metadata": {},
   "outputs": [],
   "source": [
    "print(open('/Users/zara/Desktop/desktop.text', 'r').read())"
   ]
  },
  {
   "cell_type": "code",
   "execution_count": null,
   "metadata": {},
   "outputs": [],
   "source": [
    "print(open('day10.text', 'r').read())"
   ]
  },
  {
   "cell_type": "code",
   "execution_count": 17,
   "metadata": {},
   "outputs": [],
   "source": [
    "# Open the file in write mode\n",
    "with open('example2.txt', 'w') as file:\n",
    "    file.write('Hello, world!\\n')\n",
    "    file.write('Welcome to file handling in Python.')"
   ]
  },
  {
   "cell_type": "markdown",
   "metadata": {},
   "source": [
    "**Working with CSV Files**\n",
    "\n",
    "Python’s csv module provides functionality to read and write CSV files."
   ]
  },
  {
   "cell_type": "code",
   "execution_count": 20,
   "metadata": {},
   "outputs": [],
   "source": [
    "import csv\n",
    "\n",
    "# Data to write\n",
    "data = [\n",
    "    [\"EmployeeID\", \"Name\", \"Department\", \"Position\", \"Salary\"],\n",
    "    [1, \"John Smith\", \"Engineering\", \"Software Engineer\", 75000],\n",
    "    [2, \"Jane Doe\", \"Marketing\", \"Marketing Manager\", 68000],\n",
    "    [3, \"Michael Johnson\", \"HR\", \"HR Specialist\", 60000],\n",
    "    [4, \"Lisa Wong\", \"Sales\", \"Sales Representative\", 50000],\n",
    "    [5, \"David Brown\", \"Engineering\", \"DevOps Engineer\", 80000]\n",
    "]\n",
    "\n",
    "# Write data to CSV\n",
    "with open('employee.csv', 'w', newline='') as file:\n",
    "    writer = csv.writer(file)\n",
    "    writer.writerows(data)\n"
   ]
  },
  {
   "cell_type": "code",
   "execution_count": 27,
   "metadata": {},
   "outputs": [
    {
     "name": "stdout",
     "output_type": "stream",
     "text": [
      "EmployeeID,Name,Department,Position,Salary\n",
      "1,John Smith,Engineering,Software Engineer,75000\n",
      "2,Jane Doe,Marketing,Marketing Manager,68000\n",
      "3,Michael Johnson,HR,HR Specialist,60000\n",
      "4,Lisa Wong,Sales,Sales Representative,50000\n",
      "5,David Brown,Engineering,DevOps Engineer,80000\n",
      "\n"
     ]
    }
   ],
   "source": [
    "print(open(\"employee.csv\", \"r\").read())"
   ]
  },
  {
   "cell_type": "code",
   "execution_count": 26,
   "metadata": {},
   "outputs": [
    {
     "name": "stdout",
     "output_type": "stream",
     "text": [
      "['EmployeeID', 'Name', 'Department', 'Position', 'Salary']\n",
      "['1', 'John Smith', 'Engineering', 'Software Engineer', '75000']\n",
      "['2', 'Jane Doe', 'Marketing', 'Marketing Manager', '68000']\n",
      "['3', 'Michael Johnson', 'HR', 'HR Specialist', '60000']\n",
      "['4', 'Lisa Wong', 'Sales', 'Sales Representative', '50000']\n",
      "['5', 'David Brown', 'Engineering', 'DevOps Engineer', '80000']\n"
     ]
    }
   ],
   "source": [
    "with open(\"employee.csv\", \"r\") as file:\n",
    "    reader = csv.reader(file)\n",
    "    for row in reader:\n",
    "        print(row)"
   ]
  },
  {
   "cell_type": "code",
   "execution_count": 23,
   "metadata": {},
   "outputs": [],
   "source": [
    "open(\"employee.csv\", \"r\").close()"
   ]
  },
  {
   "cell_type": "code",
   "execution_count": 24,
   "metadata": {},
   "outputs": [
    {
     "ename": "FileNotFoundError",
     "evalue": "[Errno 2] No such file or directory: 'employees.csv'",
     "output_type": "error",
     "traceback": [
      "\u001b[1;31m---------------------------------------------------------------------------\u001b[0m",
      "\u001b[1;31mFileNotFoundError\u001b[0m                         Traceback (most recent call last)",
      "Cell \u001b[1;32mIn[24], line 2\u001b[0m\n\u001b[0;32m      1\u001b[0m \u001b[38;5;28;01mimport\u001b[39;00m \u001b[38;5;21;01mcsv\u001b[39;00m\n\u001b[1;32m----> 2\u001b[0m \u001b[38;5;28;43mopen\u001b[39;49m\u001b[43m(\u001b[49m\u001b[38;5;124;43m'\u001b[39;49m\u001b[38;5;124;43memployees.csv\u001b[39;49m\u001b[38;5;124;43m'\u001b[39;49m\u001b[43m,\u001b[49m\u001b[43m \u001b[49m\u001b[38;5;124;43m'\u001b[39;49m\u001b[38;5;124;43mr\u001b[39;49m\u001b[38;5;124;43m'\u001b[39;49m\u001b[43m)\u001b[49m\u001b[38;5;241m.\u001b[39mclose()\n",
      "File \u001b[1;32mc:\\Users\\Administrator\\Documents\\Vscode\\my_venv\\Lib\\site-packages\\IPython\\core\\interactiveshell.py:324\u001b[0m, in \u001b[0;36m_modified_open\u001b[1;34m(file, *args, **kwargs)\u001b[0m\n\u001b[0;32m    317\u001b[0m \u001b[38;5;28;01mif\u001b[39;00m file \u001b[38;5;129;01min\u001b[39;00m {\u001b[38;5;241m0\u001b[39m, \u001b[38;5;241m1\u001b[39m, \u001b[38;5;241m2\u001b[39m}:\n\u001b[0;32m    318\u001b[0m     \u001b[38;5;28;01mraise\u001b[39;00m \u001b[38;5;167;01mValueError\u001b[39;00m(\n\u001b[0;32m    319\u001b[0m         \u001b[38;5;124mf\u001b[39m\u001b[38;5;124m\"\u001b[39m\u001b[38;5;124mIPython won\u001b[39m\u001b[38;5;124m'\u001b[39m\u001b[38;5;124mt let you open fd=\u001b[39m\u001b[38;5;132;01m{\u001b[39;00mfile\u001b[38;5;132;01m}\u001b[39;00m\u001b[38;5;124m by default \u001b[39m\u001b[38;5;124m\"\u001b[39m\n\u001b[0;32m    320\u001b[0m         \u001b[38;5;124m\"\u001b[39m\u001b[38;5;124mas it is likely to crash IPython. If you know what you are doing, \u001b[39m\u001b[38;5;124m\"\u001b[39m\n\u001b[0;32m    321\u001b[0m         \u001b[38;5;124m\"\u001b[39m\u001b[38;5;124myou can use builtins\u001b[39m\u001b[38;5;124m'\u001b[39m\u001b[38;5;124m open.\u001b[39m\u001b[38;5;124m\"\u001b[39m\n\u001b[0;32m    322\u001b[0m     )\n\u001b[1;32m--> 324\u001b[0m \u001b[38;5;28;01mreturn\u001b[39;00m \u001b[43mio_open\u001b[49m\u001b[43m(\u001b[49m\u001b[43mfile\u001b[49m\u001b[43m,\u001b[49m\u001b[43m \u001b[49m\u001b[38;5;241;43m*\u001b[39;49m\u001b[43margs\u001b[49m\u001b[43m,\u001b[49m\u001b[43m \u001b[49m\u001b[38;5;241;43m*\u001b[39;49m\u001b[38;5;241;43m*\u001b[39;49m\u001b[43mkwargs\u001b[49m\u001b[43m)\u001b[49m\n",
      "\u001b[1;31mFileNotFoundError\u001b[0m: [Errno 2] No such file or directory: 'employees.csv'"
     ]
    }
   ],
   "source": [
    "import csv\n",
    "open('employees.csv', 'r').close()"
   ]
  },
  {
   "cell_type": "code",
   "execution_count": null,
   "metadata": {},
   "outputs": [],
   "source": [
    "with open('employees.csv', 'r') as file:\n",
    "    reader = csv.reader(file)\n",
    "    for row in reader:\n",
    "        print(row)"
   ]
  },
  {
   "cell_type": "code",
   "execution_count": null,
   "metadata": {},
   "outputs": [],
   "source": [
    "import csv\n",
    "\n",
    "# Open the CSV file\n",
    "with open('employees.csv', 'r') as file:\n",
    "    reader = csv.reader(file)\n",
    "    for row in reader:\n",
    "        print(row)"
   ]
  },
  {
   "cell_type": "markdown",
   "metadata": {},
   "source": [
    "Writing to CSV Files"
   ]
  },
  {
   "cell_type": "code",
   "execution_count": 14,
   "metadata": {},
   "outputs": [],
   "source": [
    "import csv\n",
    "with open(\"emp.csv\", \"w\", newline = \"\") as file:\n",
    "    x = csv.writer(file)\n",
    "    # Adding header\n",
    "    x.writerow(['id', 'name', 'salary']),\n",
    "    x.writerow([101, 'sam', 25500])\n",
    "    x.writerow([102, 'Zarah', 45000])\n",
    "    x.writerow([104, 'dodo', 34500])"
   ]
  },
  {
   "cell_type": "code",
   "execution_count": 15,
   "metadata": {},
   "outputs": [],
   "source": [
    "# appending new records\n",
    "\n",
    "with open(\"emp.csv\", \"a\", newline = \"\") as file:\n",
    "    x = csv.writer(file)\n",
    "    \n",
    "    x.writerow([105, 'mike', 25500])\n",
    "    x.writerow([106, 'john', 45000])\n",
    "    x.writerow([107, 'smith', 34500])"
   ]
  },
  {
   "cell_type": "code",
   "execution_count": 16,
   "metadata": {},
   "outputs": [
    {
     "name": "stdout",
     "output_type": "stream",
     "text": [
      "id,name,salary\n",
      "101,sam,25500\n",
      "102,Zarah,45000\n",
      "104,dodo,34500\n",
      "105,mike,25500\n",
      "106,john,45000\n",
      "107,smith,34500\n",
      "\n"
     ]
    }
   ],
   "source": [
    "print(open(\"emp.csv\", \"r\").read())"
   ]
  },
  {
   "cell_type": "code",
   "execution_count": 29,
   "metadata": {},
   "outputs": [
    {
     "name": "stdout",
     "output_type": "stream",
     "text": [
      "['id', 'name', 'salary']\n",
      "['101', 'sam', '25500']\n",
      "['102', 'Zara', '45000']\n",
      "['104', 'dodo', '34500']\n"
     ]
    }
   ],
   "source": [
    "# Reading CSV file\n",
    "with open(\"emp.csv\", \"r\") as file:\n",
    "    reader = csv.reader(file)\n",
    "    for row in reader:\n",
    "        print(row)"
   ]
  },
  {
   "cell_type": "code",
   "execution_count": 31,
   "metadata": {},
   "outputs": [],
   "source": [
    "with open('emp.csv',  'w', newline='') as file:\n",
    "    x = csv.writer(file)\n",
    "    # adding header\n",
    "    x.writerow(['id', 'name', 'salary'])\n",
    "    x.writerow([101, 'sam', 25500])\n",
    "    x.writerow([102, 'Zara', 45000])\n",
    "    x.writerow([104, 'dodo', 34500])\n"
   ]
  },
  {
   "cell_type": "code",
   "execution_count": 32,
   "metadata": {},
   "outputs": [],
   "source": [
    "# appending new records\n",
    "with open('emp.csv',  'a', newline='') as file:\n",
    "    x = csv.writer(file)\n",
    "\n",
    "    x.writerow([105, 'mike', 25500])\n",
    "    x.writerow([106, 'smith', 45000])\n",
    "    x.writerow([107, 'john', 34500])\n"
   ]
  },
  {
   "cell_type": "code",
   "execution_count": 33,
   "metadata": {},
   "outputs": [
    {
     "name": "stdout",
     "output_type": "stream",
     "text": [
      "id,name,salary\n",
      "101,sam,25500\n",
      "102,Zara,45000\n",
      "104,dodo,34500\n",
      "105,mike,25500\n",
      "106,smith,45000\n",
      "107,john,34500\n",
      "\n"
     ]
    }
   ],
   "source": [
    "print(open('emp.csv', 'r').read())"
   ]
  },
  {
   "cell_type": "code",
   "execution_count": 32,
   "metadata": {},
   "outputs": [],
   "source": [
    "import csv\n",
    "\n",
    "# Open the CSV file in write mode\n",
    "with open('data.csv', 'w', newline='') as file:\n",
    "    writer = csv.writer(file)\n",
    "    writer.writerow(['Name', 'Age', 'City'])\n",
    "    writer.writerow(['Alice', '30', 'New York'])\n",
    "    writer.writerow(['Bob', '25', 'Los Angeles'])\n"
   ]
  },
  {
   "cell_type": "markdown",
   "metadata": {},
   "source": [
    "**Working with JSON Files**\n",
    "\n",
    "Reading JSON Files\n",
    "Python’s `json` module helps to parse JSON data."
   ]
  },
  {
   "cell_type": "code",
   "execution_count": 18,
   "metadata": {},
   "outputs": [
    {
     "name": "stdout",
     "output_type": "stream",
     "text": [
      "{'name': 'Alice', 'age': 30, 'city': 'New York'}\n"
     ]
    }
   ],
   "source": [
    "import json\n",
    "with open(\"data.json\", \"r\") as file:\n",
    "    data = json.load(file)\n",
    "    print(data)"
   ]
  },
  {
   "cell_type": "code",
   "execution_count": 23,
   "metadata": {},
   "outputs": [
    {
     "name": "stdout",
     "output_type": "stream",
     "text": [
      "{'car': 'Ford', 'model': 2024, 'price': 25000}\n"
     ]
    }
   ],
   "source": [
    "with open('data.json', 'r') as file:\n",
    "    data = json.load(file)\n",
    "    print(data)"
   ]
  },
  {
   "cell_type": "markdown",
   "metadata": {},
   "source": [
    "Writing to JSON Files"
   ]
  },
  {
   "cell_type": "code",
   "execution_count": 22,
   "metadata": {},
   "outputs": [],
   "source": [
    "import json\n",
    "\n",
    "data = {\n",
    "    \"car\" : \"Ford\",\n",
    "    \"model\" : 2024,\n",
    "    \"price\" : 25000\n",
    "}\n",
    "# Open the JSON file in write mode\n",
    "with open(\"data.json\", \"w\") as file:\n",
    "    json.dump(data, file, indent = 4)"
   ]
  },
  {
   "cell_type": "code",
   "execution_count": 55,
   "metadata": {},
   "outputs": [],
   "source": [
    "import json\n",
    "\n",
    "data = {\n",
    "    'car': 'bmw',\n",
    "    'model': 2024,\n",
    "    'price': 750000\n",
    "}\n",
    "\n",
    "# Open the JSON file in write mode\n",
    "with open('data.json', 'a') as file:\n",
    "    json.dump(data, file, indent=4)"
   ]
  },
  {
   "cell_type": "markdown",
   "metadata": {},
   "source": [
    "**Exception Handling in File Operations**\n",
    "\n",
    "Handling exceptions is crucial to prevent your program from crashing due to file-related errors, such as file not found or permission errors."
   ]
  },
  {
   "cell_type": "code",
   "execution_count": 42,
   "metadata": {},
   "outputs": [
    {
     "name": "stdout",
     "output_type": "stream",
     "text": [
      "File not found please enter correct file path\n"
     ]
    }
   ],
   "source": [
    "try:\n",
    "    with open('tdsdest.txt', 'r') as file:\n",
    "        content = file.read()\n",
    "        print(content)\n",
    "except FileNotFoundError:\n",
    "    #pass\n",
    "     print('File not found please enter correct file path')\n",
    "    \n",
    "except IOError:\n",
    "    print('Please check reading more or rest of the code')\n",
    "    "
   ]
  },
  {
   "cell_type": "code",
   "execution_count": 35,
   "metadata": {},
   "outputs": [
    {
     "name": "stdout",
     "output_type": "stream",
     "text": [
      "The file was not found.\n"
     ]
    }
   ],
   "source": [
    "try:\n",
    "    # Attempt to open a file\n",
    "    with open('dsdtc.txt', 'r') as file:\n",
    "        content = file.read()\n",
    "        print(content)\n",
    "except FileNotFoundError:\n",
    "    print('The file was not found.')\n",
    "except IOError:\n",
    "    print('An error occurred while reading the file.')"
   ]
  },
  {
   "cell_type": "code",
   "execution_count": 45,
   "metadata": {},
   "outputs": [
    {
     "name": "stdout",
     "output_type": "stream",
     "text": [
      "This is test file\n",
      "Welcome to file handling\n"
     ]
    }
   ],
   "source": [
    "try:\n",
    "    with open(\"test.txt\", \"r\") as file:\n",
    "        content = file.read()\n",
    "        print(content)\n",
    "except FileNotFoundError:\n",
    "    print(\"File not found.Please enter correct file path\")\n",
    "except IOError:\n",
    "    print(\"Please check reading mode or the rest of the code\")"
   ]
  },
  {
   "cell_type": "markdown",
   "metadata": {},
   "source": [
    "#### Exercises\n",
    "\n",
    "- Read and Display File Content\n",
    "Create a text file named `sample1.txt` with some content.\n",
    "Write a Python script to read and display the content of sample.txt.\n",
    "CSV Data Analysis\n",
    "\n",
    "- Create a CSV file named `employees1.csv` with columns: Name, Age, Department.\n",
    "Write a Python script to read this CSV file and print each employee's details.\n",
    "JSON Data Handling\n",
    "\n",
    "- Create a JSON file named `info.json` with some sample data (e.g., name, age, country).\n",
    "Write a Python script to read this JSON file and print the data in a readable format.\n",
    "\n",
    "- Exception Handling Practice\n",
    "Write a Python script to open a file in read mode. If the file does not exist, handle the exception by printing an error message."
   ]
  }
 ],
 "metadata": {
  "kernelspec": {
   "display_name": "my_venv",
   "language": "python",
   "name": "python3"
  },
  "language_info": {
   "codemirror_mode": {
    "name": "ipython",
    "version": 3
   },
   "file_extension": ".py",
   "mimetype": "text/x-python",
   "name": "python",
   "nbconvert_exporter": "python",
   "pygments_lexer": "ipython3",
   "version": "3.12.6"
  }
 },
 "nbformat": 4,
 "nbformat_minor": 2
}
