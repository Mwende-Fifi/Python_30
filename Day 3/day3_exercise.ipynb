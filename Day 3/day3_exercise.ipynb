{
 "cells": [
  {
   "cell_type": "markdown",
   "metadata": {},
   "source": [
    "### Exercises Day3:\n",
    "\n",
    "1. **First Three Letters of a Name**  \n",
    "   - Take a user's full name as input, and print the first three letters of their first name and the first three letters of their last name.\n",
    "\n",
    "2. **Reverse a Word**  \n",
    "   - Take a word as input and print the reversed word using slicing.\n",
    "\n",
    "3. **Extract the Middle Character**  \n",
    "   - Take an odd-length string as input and print the middle character using slicing.\n",
    "\n",
    "4. **Count Characters (Excluding Spaces)**  \n",
    "   - Take a sentence as input and count the number of characters, excluding spaces.\n",
    "\n",
    "5. **Modify User Input**  \n",
    "   - Ask the user for their favorite color and output the color in lowercase, uppercase, and with spaces removed.\n",
    "\n",
    "6. **Username Generator**  \n",
    "   - Take the user's full name and generate a username using the first three letters of the first name and the last three letters of the last name.\n",
    "\n",
    "7. **Strip Leading and Trailing Spaces**  \n",
    "   - Take a string with extra spaces and remove all the leading and trailing spaces using `strip()`.\n",
    "\n",
    "8. **Uppercase Initials**  \n",
    "   - Take a full name as input and print the initials in uppercase.\n",
    "\n",
    "9. **Check if a Word is a Palindrome**  \n",
    "   - Take a word as input and check whether it is a palindrome.\n",
    "\n",
    "10. **Find the Last Three Characters**  \n",
    "    - Take a word as input and print the last three characters using slicing.\n",
    "\n",
    "---\n",
    "\n",
    "### Mini Project: **Password Strength Checker**\n",
    "\n",
    "**Goal**:  \n",
    "Create a program that takes a user's input for a password and checks its strength based on the following criteria:\n",
    "- At least 8 characters long.\n",
    "- Contains both uppercase and lowercase letters.\n",
    "- Includes at least one numeric digit.\n",
    "- Contains at least one special character (e.g., `!`, `@`, `#`, etc.).\n",
    "\n",
    "**Steps**:\n",
    "1. Take the password as input from the user.\n",
    "2. Use string methods like `.lower()`, `.isupper()`, `.isdigit()`, and slicing to validate the password.\n",
    "3. Print whether the password is weak, medium, or strong based on how many criteria it satisfies."
   ]
  },
  {
   "cell_type": "markdown",
   "metadata": {},
   "source": []
  },
  {
   "cell_type": "markdown",
   "metadata": {},
   "source": [
    "1. **First Three Letters of a Name**  \n",
    "   - Take a user's full name as input, and print the first three letters of their first name and the first three letters of their last name."
   ]
  },
  {
   "cell_type": "code",
   "execution_count": 10,
   "metadata": {},
   "outputs": [
    {
     "name": "stdout",
     "output_type": "stream",
     "text": [
      "Thank you for sharing your info. Your name is MweKii\n"
     ]
    }
   ],
   "source": [
    "full_name = input(\"Please enter your full name :\")\n",
    "\n",
    "# splitting the name into two parts\n",
    "\n",
    "name_parts = full_name.split()\n",
    "\n",
    "if len(name_parts) >= 2:\n",
    "    short_f_name = name_parts[0]\n",
    "    short_l_name = name_parts[-1]\n",
    "\n",
    "# Michael\n",
    "short_f_name = short_f_name[:2+1]\n",
    "\n",
    "# Michael\n",
    "short_l_name = short_l_name[:2+1]\n",
    "\n",
    "# printing the outcome\n",
    "new_name = short_f_name + short_l_name\n",
    "\n",
    "print(f\"Thank you for sharing your info. Your name is {new_name}\")"
   ]
  },
  {
   "cell_type": "markdown",
   "metadata": {},
   "source": [
    "2. **Reverse a Word**  \n",
    "   - Take a word as input and print the reversed word using slicing."
   ]
  },
  {
   "cell_type": "code",
   "execution_count": 11,
   "metadata": {},
   "outputs": [
    {
     "name": "stdout",
     "output_type": "stream",
     "text": [
      "The reversed word is llup\n"
     ]
    }
   ],
   "source": [
    "word = input(\"Please enter a word :\")\n",
    "\n",
    "# Reverse the word using slicing\n",
    "reversed_word = word[::-1]\n",
    "\n",
    "# printing the outcome\n",
    "print(f\"The reversed word is {reversed_word}\")"
   ]
  },
  {
   "cell_type": "markdown",
   "metadata": {},
   "source": [
    "3. **Extract the Middle Character**  \n",
    "   - Take an odd-length string as input and print the middle character using slicing."
   ]
  },
  {
   "cell_type": "code",
   "execution_count": 23,
   "metadata": {},
   "outputs": [
    {
     "name": "stdout",
     "output_type": "stream",
     "text": [
      "The middle character is d\n"
     ]
    }
   ],
   "source": [
    "string_1 = input(\"Please enter a string: \")\n",
    "\n",
    "if len(string_1) % 2 != 0:\n",
    "    middle_index = len(string_1) // 2\n",
    "    middle_character = string_1[middle_index]\n",
    "    print(f\"The middle character is {middle_character}\")\n",
    "else:\n",
    "    print(\"Enter an odd-length string\")\n",
    "\n",
    " "
   ]
  },
  {
   "cell_type": "markdown",
   "metadata": {},
   "source": [
    "4. **Count Characters (Excluding Spaces)**  \n",
    "   - Take a sentence as input and count the number of characters, excluding spaces."
   ]
  },
  {
   "cell_type": "code",
   "execution_count": 29,
   "metadata": {},
   "outputs": [
    {
     "name": "stdout",
     "output_type": "stream",
     "text": [
      "15\n"
     ]
    }
   ],
   "source": [
    "sentence = input(\"Please enter a sentence: \")\n",
    "\n",
    "# Counting the number of characters\n",
    "sentence_count = len(sentence.replace(\" \",\"\"))\n",
    "print(sentence_count)"
   ]
  },
  {
   "cell_type": "markdown",
   "metadata": {},
   "source": [
    "5. **Modify User Input**  \n",
    "   - Ask the user for their favorite color and output the color in lowercase, uppercase, and with spaces removed."
   ]
  },
  {
   "cell_type": "code",
   "execution_count": 34,
   "metadata": {},
   "outputs": [
    {
     "name": "stdout",
     "output_type": "stream",
     "text": [
      "light blue\n",
      "LIGHT BLUE\n",
      "LightBlue\n"
     ]
    }
   ],
   "source": [
    "fav_color = input(\"Please input your favorite color: \")\n",
    "\n",
    "# Lowercase\n",
    "print(fav_color.lower())\n",
    "\n",
    "# Uppercase\n",
    "print(fav_color.upper())\n",
    "\n",
    "# Removing spaces\n",
    "fav_color = fav_color.replace(\" \",\"\")\n",
    "print(fav_color)\n"
   ]
  },
  {
   "cell_type": "markdown",
   "metadata": {},
   "source": [
    "6. **Username Generator**  \n",
    "   - Take the user's full name and generate a username using the first three letters of the first name and the last three letters of the last name."
   ]
  },
  {
   "cell_type": "code",
   "execution_count": 35,
   "metadata": {},
   "outputs": [
    {
     "name": "stdout",
     "output_type": "stream",
     "text": [
      "Thank you for your info. Your username is Mwendu\n"
     ]
    }
   ],
   "source": [
    "full_name = input(\"Please input your full name: \")\n",
    "\n",
    "# splitting the name into two parts\n",
    "name_parts = full_name.split()\n",
    "\n",
    "if len(name_parts) >= 2:\n",
    "    f_name = name_parts[0]\n",
    "    l_name = name_parts[-1]\n",
    "\n",
    "f_name = f_name[:2+1]\n",
    "l_name = l_name[-3:]\n",
    "\n",
    "user_name = f_name + l_name\n",
    "print(f\"Thank you for your info. Your username is {user_name}\")\n"
   ]
  },
  {
   "cell_type": "markdown",
   "metadata": {},
   "source": [
    "7. **Strip Leading and Trailing Spaces**  \n",
    "   - Take a string with extra spaces and remove all the leading and trailing spaces using `strip()`."
   ]
  },
  {
   "cell_type": "code",
   "execution_count": 39,
   "metadata": {},
   "outputs": [
    {
     "name": "stdout",
     "output_type": "stream",
     "text": [
      "The clean string is Mama is a good cook.\n"
     ]
    }
   ],
   "source": [
    "string1 = input(\"Please enter a string: \")\n",
    "clean_string = string1.strip()\n",
    "print(f\"The clean string is {clean_string}\")"
   ]
  },
  {
   "cell_type": "markdown",
   "metadata": {},
   "source": [
    "8. **Uppercase Initials**  \n",
    "   - Take a full name as input and print the initials in uppercase."
   ]
  },
  {
   "cell_type": "code",
   "execution_count": 40,
   "metadata": {},
   "outputs": [
    {
     "name": "stdout",
     "output_type": "stream",
     "text": [
      "Thank you for your info. Your initials are MK\n"
     ]
    }
   ],
   "source": [
    "full_name = input(\"Please enter your full name: \")\n",
    "\n",
    "# Spilting the name into parts\n",
    "name_parts = full_name.split()\n",
    "\n",
    "if len(name_parts) >= 2:\n",
    "    f_name = name_parts[0]\n",
    "    l_name = name_parts[1]\n",
    "\n",
    "f_name = f_name[:1].upper()\n",
    "l_name = l_name[:1].upper()\n",
    "\n",
    "# Initials\n",
    "initials = f_name + l_name\n",
    "print(f\"Thank you for your info. Your initials are {initials}\")"
   ]
  },
  {
   "cell_type": "markdown",
   "metadata": {},
   "source": [
    "9. **Check if a Word is a Palindrome**  \n",
    "   - Take a word as input and check whether it is a palindrome.\n"
   ]
  },
  {
   "cell_type": "code",
   "execution_count": 42,
   "metadata": {},
   "outputs": [
    {
     "name": "stdout",
     "output_type": "stream",
     "text": [
      "Yes\n"
     ]
    }
   ],
   "source": [
    "word = input(\"Please input a word: \")\n",
    "\n",
    "x = word\n",
    "w = \"\"\n",
    "for i in x:\n",
    "    w = i + w\n",
    "\n",
    "if(x == w):\n",
    "    print(\"Yes\")\n",
    "else:\n",
    "    print(\"No\")"
   ]
  },
  {
   "cell_type": "markdown",
   "metadata": {},
   "source": [
    "10. **Find the Last Three Characters**  \n",
    "    - Take a word as input and print the last three characters using slicing."
   ]
  },
  {
   "cell_type": "code",
   "execution_count": 45,
   "metadata": {},
   "outputs": [
    {
     "name": "stdout",
     "output_type": "stream",
     "text": [
      "eer\n"
     ]
    }
   ],
   "source": [
    "word = input(\"Please input a word: \")\n",
    "\n",
    "new_word = word[-3:]\n",
    "print(new_word)"
   ]
  }
 ],
 "metadata": {
  "kernelspec": {
   "display_name": "my_venv",
   "language": "python",
   "name": "python3"
  },
  "language_info": {
   "codemirror_mode": {
    "name": "ipython",
    "version": 3
   },
   "file_extension": ".py",
   "mimetype": "text/x-python",
   "name": "python",
   "nbconvert_exporter": "python",
   "pygments_lexer": "ipython3",
   "version": "3.12.6"
  }
 },
 "nbformat": 4,
 "nbformat_minor": 2
}
