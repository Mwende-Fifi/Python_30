{
 "cells": [
  {
   "cell_type": "markdown",
   "metadata": {},
   "source": [
    "---\n",
    "\n",
    "### 1. **Print Numbers 1 to 10 (For Loop)**\n",
    "Write a program that prints numbers from 1 to 10 using a `for` loop.\n",
    "\n",
    "---\n",
    "\n",
    "### 2. **Print Numbers 1 to 10 (While Loop)**\n",
    "Write a program that prints numbers from 1 to 10 using a `while` loop.\n",
    "\n",
    "---\n",
    "\n",
    "### 3. **Sum of First 10 Natural Numbers (For Loop)**\n",
    "Write a program to calculate the sum of the first 10 natural numbers using a `for` loop.\n",
    "\n",
    "---\n",
    "\n",
    "### 4. **Sum of First 10 Natural Numbers (While Loop)**\n",
    "Write a program to calculate the sum of the first 10 natural numbers using a `while` loop.\n",
    "\n",
    "---\n",
    "\n",
    "### 5. **Print Even Numbers Between 1 and 20 (For Loop)**\n",
    "Write a program that prints all even numbers between 1 and 20 using a `for` loop.\n",
    "\n",
    "---\n",
    "\n",
    "### 6. **Print Odd Numbers Between 1 and 20 (While Loop)**\n",
    "Write a program that prints all odd numbers between 1 and 20 using a `while` loop.\n",
    "\n",
    "---\n",
    "\n",
    "### 7. **Print Each Character of a String (For Loop)**\n",
    "Write a program that takes a string as input and prints each character on a new line using a `for` loop.\n",
    "\n",
    "---\n",
    "\n",
    "### 8. **Multiplication Table (For Loop)**\n",
    "Write a program that prints the multiplication table of a number entered by the user using a `for` loop.\n",
    "\n",
    "---\n",
    "\n",
    "### 9. **Guess the Secret Number (While Loop)**\n",
    "Write a guessing game where the user has to guess a secret number between 1 and 10 using a `while` loop. The program should keep asking until they guess correctly.\n",
    "\n",
    "---\n",
    "\n",
    "### 10. **Count Down from 10 to 1 (While Loop)**\n",
    "Write a program that counts down from 10 to 1 using a `while` loop.\n",
    "\n",
    "---"
   ]
  },
  {
   "cell_type": "markdown",
   "metadata": {},
   "source": [
    "### 1. **Print Numbers 1 to 10 (For Loop)**\n",
    "Write a program that prints numbers from 1 to 10 using a `for` loop."
   ]
  },
  {
   "cell_type": "code",
   "execution_count": 2,
   "metadata": {},
   "outputs": [
    {
     "name": "stdout",
     "output_type": "stream",
     "text": [
      "1\n",
      "2\n",
      "3\n",
      "4\n",
      "5\n",
      "6\n",
      "7\n",
      "8\n",
      "9\n",
      "10\n"
     ]
    }
   ],
   "source": [
    "for i in range(1, 10+1):\n",
    "    print (i)"
   ]
  },
  {
   "cell_type": "markdown",
   "metadata": {},
   "source": [
    "### 2. **Print Numbers 1 to 10 (While Loop)**\n",
    "Write a program that prints numbers from 1 to 10 using a `while` loop.\n"
   ]
  },
  {
   "cell_type": "code",
   "execution_count": 3,
   "metadata": {},
   "outputs": [
    {
     "name": "stdout",
     "output_type": "stream",
     "text": [
      "1\n",
      "2\n",
      "3\n",
      "4\n",
      "5\n",
      "6\n",
      "7\n",
      "8\n",
      "9\n",
      "10\n"
     ]
    }
   ],
   "source": [
    "num = 1\n",
    "\n",
    "while num <= 10:\n",
    "    print(num)\n",
    "\n",
    "    # increasing the number\n",
    "    num += 1\n"
   ]
  },
  {
   "cell_type": "markdown",
   "metadata": {},
   "source": [
    "### 3. **Sum of First 10 Natural Numbers (For Loop)**\n",
    "Write a program to calculate the sum of the first 10 natural numbers using a `for` loop."
   ]
  },
  {
   "cell_type": "code",
   "execution_count": 5,
   "metadata": {},
   "outputs": [
    {
     "name": "stdout",
     "output_type": "stream",
     "text": [
      "55\n"
     ]
    }
   ],
   "source": [
    "total = 0\n",
    "for i in range(1, 10+1):\n",
    "    #print (i)\n",
    "    total += i\n",
    "print(total)"
   ]
  },
  {
   "cell_type": "markdown",
   "metadata": {},
   "source": [
    "### 4. **Sum of First 10 Natural Numbers (While Loop)**\n",
    "Write a program to calculate the sum of the first 10 natural numbers using a `while` loop."
   ]
  },
  {
   "cell_type": "code",
   "execution_count": 1,
   "metadata": {},
   "outputs": [
    {
     "name": "stdout",
     "output_type": "stream",
     "text": [
      "55\n"
     ]
    }
   ],
   "source": [
    "num = 1\n",
    "total = 0\n",
    "\n",
    "while num <= 10:\n",
    "    #print(num)\n",
    "    total += num\n",
    "    # increase the number\n",
    "    num += 1\n",
    "\n",
    "print(total)"
   ]
  },
  {
   "cell_type": "markdown",
   "metadata": {},
   "source": [
    "### 5. **Print Even Numbers Between 1 and 20 (For Loop)**\n",
    "Write a program that prints all even numbers between 1 and 20 using a `for` loop.\n"
   ]
  },
  {
   "cell_type": "code",
   "execution_count": 4,
   "metadata": {},
   "outputs": [
    {
     "name": "stdout",
     "output_type": "stream",
     "text": [
      "2\n",
      "4\n",
      "6\n",
      "8\n",
      "10\n",
      "12\n",
      "14\n",
      "16\n",
      "18\n"
     ]
    }
   ],
   "source": [
    "for i in range(1, 20):\n",
    "    if i % 2 == 0:\n",
    "        print(i)\n",
    "        # increase the number\n",
    "        i += 2"
   ]
  },
  {
   "cell_type": "markdown",
   "metadata": {},
   "source": [
    "### 6. **Print Odd Numbers Between 1 and 20 (While Loop)**\n",
    "Write a program that prints all odd numbers between 1 and 20 using a `while` loop."
   ]
  },
  {
   "cell_type": "code",
   "execution_count": 1,
   "metadata": {},
   "outputs": [
    {
     "name": "stdout",
     "output_type": "stream",
     "text": [
      "1\n",
      "3\n",
      "5\n",
      "7\n",
      "9\n",
      "11\n",
      "13\n",
      "15\n",
      "17\n",
      "19\n"
     ]
    }
   ],
   "source": [
    "num = 1\n",
    "\n",
    "while num < 20:\n",
    "    if num % 2 != 0:\n",
    "        print(num)\n",
    "        # increase the number\n",
    "        num += 2\n"
   ]
  },
  {
   "cell_type": "markdown",
   "metadata": {},
   "source": [
    "### 7. **Print Each Character of a String (For Loop)**\n",
    "Write a program that takes a string as input and prints each character on a new line using a `for` loop."
   ]
  },
  {
   "cell_type": "code",
   "execution_count": 4,
   "metadata": {},
   "outputs": [
    {
     "name": "stdout",
     "output_type": "stream",
     "text": [
      "M\n",
      "\n",
      "a\n",
      "\n",
      "m\n",
      "\n",
      "a\n",
      "\n",
      " \n",
      "\n",
      "i\n",
      "\n",
      "s\n",
      "\n",
      " \n",
      "\n",
      "a\n",
      "\n",
      " \n",
      "\n",
      "g\n",
      "\n",
      "o\n",
      "\n",
      "o\n",
      "\n",
      "d\n",
      "\n",
      " \n",
      "\n",
      "c\n",
      "\n",
      "o\n",
      "\n",
      "o\n",
      "\n",
      "k\n",
      "\n"
     ]
    }
   ],
   "source": [
    "string1 = input(\"Please input a string: \")\n",
    "for i in string1:\n",
    "    print(i + \"\\n\")"
   ]
  },
  {
   "cell_type": "markdown",
   "metadata": {},
   "source": [
    "### 8. **Multiplication Table (For Loop)**\n",
    "Write a program that prints the multiplication table of a number entered by the user using a `for` loop."
   ]
  },
  {
   "cell_type": "code",
   "execution_count": 9,
   "metadata": {},
   "outputs": [
    {
     "name": "stdout",
     "output_type": "stream",
     "text": [
      "5 x 1 = 5\n",
      "5 x 2 = 10\n",
      "5 x 3 = 15\n",
      "5 x 4 = 20\n",
      "5 x 5 = 25\n",
      "5 x 6 = 30\n",
      "5 x 7 = 35\n",
      "5 x 8 = 40\n",
      "5 x 9 = 45\n",
      "5 x 10 = 50\n"
     ]
    }
   ],
   "source": [
    "number = 1\n",
    "for i in range(10+1):\n",
    "    if number <= 10:\n",
    "        print(f\"5 x {number} = {5*number}\")\n",
    "        # increasing number value by 1\n",
    "    number += 1\n"
   ]
  },
  {
   "cell_type": "markdown",
   "metadata": {},
   "source": [
    "### 9. **Guess the Secret Number (While Loop)**\n",
    "Write a guessing game where the user has to guess a secret number between 1 and 10 using a `while` loop. The program should keep asking until they guess correctly."
   ]
  },
  {
   "cell_type": "code",
   "execution_count": 2,
   "metadata": {},
   "outputs": [
    {
     "name": "stdout",
     "output_type": "stream",
     "text": [
      "Try again\n",
      "Try again\n",
      "Try again\n",
      "Try again\n",
      "Try again\n",
      "Congratulations!.You guessed it correctly\n"
     ]
    }
   ],
   "source": [
    "secret_no = 5\n",
    "user_input = int(input(\"Please enter a number between 1 and 10: \"))\n",
    "\n",
    "while secret_no != user_input:\n",
    "    print(\"Try again\")\n",
    "    user_input = int(input(\"Please enter a number between 1 and 10: \"))\n",
    "print(\"Congratulations!.You guessed it correctly\")\n",
    "    "
   ]
  },
  {
   "cell_type": "markdown",
   "metadata": {},
   "source": [
    "### 10. **Count Down from 10 to 1 (While Loop)**\n",
    "Write a program that counts down from 10 to 1 using a `while` loop."
   ]
  },
  {
   "cell_type": "code",
   "execution_count": 3,
   "metadata": {},
   "outputs": [
    {
     "name": "stdout",
     "output_type": "stream",
     "text": [
      "10\n",
      "9\n",
      "8\n",
      "7\n",
      "6\n",
      "5\n",
      "4\n",
      "3\n",
      "2\n",
      "1\n"
     ]
    }
   ],
   "source": [
    "num = 10\n",
    "while num > 0:\n",
    "    print(num)\n",
    "    # decreasing the number\n",
    "    num -= 1"
   ]
  }
 ],
 "metadata": {
  "kernelspec": {
   "display_name": "my_venv",
   "language": "python",
   "name": "python3"
  },
  "language_info": {
   "codemirror_mode": {
    "name": "ipython",
    "version": 3
   },
   "file_extension": ".py",
   "mimetype": "text/x-python",
   "name": "python",
   "nbconvert_exporter": "python",
   "pygments_lexer": "ipython3",
   "version": "3.12.6"
  }
 },
 "nbformat": 4,
 "nbformat_minor": 2
}
